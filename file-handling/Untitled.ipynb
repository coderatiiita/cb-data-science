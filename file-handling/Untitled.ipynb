{
 "cells": [
  {
   "cell_type": "code",
   "execution_count": 33,
   "id": "721e2e81-4560-4069-8720-ed2abab6c800",
   "metadata": {},
   "outputs": [],
   "source": [
    "file = open('untitled.txt', 'r')"
   ]
  },
  {
   "cell_type": "code",
   "execution_count": 25,
   "id": "243b66e5-568a-43ca-b7b6-78bdff55541e",
   "metadata": {},
   "outputs": [
    {
     "name": "stdout",
     "output_type": "stream",
     "text": [
      "<class 'str'>\n"
     ]
    }
   ],
   "source": [
    "print(type(file.read()))"
   ]
  },
  {
   "cell_type": "code",
   "execution_count": 32,
   "id": "64d5b2f5-0d99-42aa-8540-50fa5c8c35bb",
   "metadata": {},
   "outputs": [],
   "source": [
    "file.close()"
   ]
  },
  {
   "cell_type": "code",
   "execution_count": 31,
   "id": "2aa10e8f-83b2-4dc2-9752-6b5125ce9456",
   "metadata": {},
   "outputs": [
    {
     "data": {
      "text/plain": [
       "''"
      ]
     },
     "execution_count": 31,
     "metadata": {},
     "output_type": "execute_result"
    }
   ],
   "source": [
    "file.readline()"
   ]
  },
  {
   "cell_type": "code",
   "execution_count": 34,
   "id": "8e500e9d-9e16-4d7b-a33d-8c45696b7d07",
   "metadata": {},
   "outputs": [],
   "source": [
    "lines = file.readlines()"
   ]
  },
  {
   "cell_type": "code",
   "execution_count": 35,
   "id": "bae255d1-f52b-43c8-9416-afe47a03857e",
   "metadata": {},
   "outputs": [
    {
     "data": {
      "text/plain": [
       "['my name is\\n', 'shubham\\n', 'vashishtha.\\n', 'coding blocks']"
      ]
     },
     "execution_count": 35,
     "metadata": {},
     "output_type": "execute_result"
    }
   ],
   "source": [
    "lines"
   ]
  },
  {
   "cell_type": "code",
   "execution_count": null,
   "id": "c0c3f075-89ad-4153-b28f-55715188fe3b",
   "metadata": {},
   "outputs": [],
   "source": []
  }
 ],
 "metadata": {
  "kernelspec": {
   "display_name": "Python 3 (ipykernel)",
   "language": "python",
   "name": "python3"
  },
  "language_info": {
   "codemirror_mode": {
    "name": "ipython",
    "version": 3
   },
   "file_extension": ".py",
   "mimetype": "text/x-python",
   "name": "python",
   "nbconvert_exporter": "python",
   "pygments_lexer": "ipython3",
   "version": "3.9.5"
  }
 },
 "nbformat": 4,
 "nbformat_minor": 5
}
