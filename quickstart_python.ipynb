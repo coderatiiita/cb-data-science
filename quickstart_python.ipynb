{
 "cells": [
  {
   "cell_type": "code",
   "execution_count": 2,
   "id": "a05ce126-05c8-4299-a048-45bef8cbf8a8",
   "metadata": {},
   "outputs": [
    {
     "name": "stdout",
     "output_type": "stream",
     "text": [
      "Hello World!\n"
     ]
    }
   ],
   "source": [
    "str = \"Hello World!\"\n",
    "print(str)"
   ]
  },
  {
   "cell_type": "code",
   "execution_count": 3,
   "id": "6278ae6d-1177-4eb1-8892-ed0caca5193d",
   "metadata": {},
   "outputs": [
    {
     "name": "stdout",
     "output_type": "stream",
     "text": [
      "10\n"
     ]
    }
   ],
   "source": [
    "a = 10\n",
    "print(a)"
   ]
  },
  {
   "cell_type": "code",
   "execution_count": 4,
   "id": "1c1a81f6-31d8-46be-b617-8a5e35218621",
   "metadata": {},
   "outputs": [
    {
     "name": "stdout",
     "output_type": "stream",
     "text": [
      "<class 'int'>\n"
     ]
    }
   ],
   "source": [
    "print(type(a))"
   ]
  },
  {
   "cell_type": "code",
   "execution_count": 5,
   "id": "2b30e484-4f10-4650-b61b-18c93dcf0c85",
   "metadata": {},
   "outputs": [
    {
     "name": "stdout",
     "output_type": "stream",
     "text": [
      "<class 'str'>\n"
     ]
    }
   ],
   "source": [
    "print(type(str))"
   ]
  },
  {
   "cell_type": "code",
   "execution_count": 6,
   "id": "e58242cc-e188-4956-8934-af1d86731f83",
   "metadata": {},
   "outputs": [
    {
     "name": "stdin",
     "output_type": "stream",
     "text": [
      " 1 2 3 4 5\n"
     ]
    }
   ],
   "source": [
    "numbers = input()"
   ]
  },
  {
   "cell_type": "code",
   "execution_count": 7,
   "id": "496f37de-f6db-4489-b6f3-9dd70945b0c7",
   "metadata": {},
   "outputs": [
    {
     "name": "stdout",
     "output_type": "stream",
     "text": [
      "<class 'str'>\n"
     ]
    }
   ],
   "source": [
    "print(type(numbers))"
   ]
  },
  {
   "cell_type": "code",
   "execution_count": 9,
   "id": "624fdcba-bda5-4459-b5ce-c41a7f302918",
   "metadata": {},
   "outputs": [
    {
     "name": "stdout",
     "output_type": "stream",
     "text": [
      "['1', '2', '3', '4', '5']\n"
     ]
    }
   ],
   "source": [
    "numbers_list_chars = \"1 2 3 4 5\".split()\n",
    "print(numbers_list_chars)"
   ]
  },
  {
   "cell_type": "code",
   "execution_count": 10,
   "id": "9355b3ca-3646-47cf-82f9-ed1f9f37ab1b",
   "metadata": {},
   "outputs": [
    {
     "name": "stdout",
     "output_type": "stream",
     "text": [
      "[1, 2, 3, 4, 5]\n"
     ]
    }
   ],
   "source": [
    "numbers_list_int = [int(x) for x in numbers_list_chars]\n",
    "print(numbers_list_int)"
   ]
  },
  {
   "cell_type": "code",
   "execution_count": 11,
   "id": "643ccab4-3a7b-40c9-9270-1bd96f2c3106",
   "metadata": {},
   "outputs": [
    {
     "name": "stdout",
     "output_type": "stream",
     "text": [
      "Bulbasaur\n",
      "Pikachu\n",
      "Charmender\n",
      "invalid\n",
      "invalid\n"
     ]
    }
   ],
   "source": [
    "for i in numbers_list_int:\n",
    "    if i==1:\n",
    "        print(\"Bulbasaur\")\n",
    "    elif i==2:\n",
    "        print(\"Pikachu\")\n",
    "    elif i==3:\n",
    "        print(\"Charmender\")\n",
    "    else:\n",
    "        print(\"invalid\")"
   ]
  },
  {
   "cell_type": "code",
   "execution_count": 15,
   "id": "29ebaa1f-1c61-4d25-9d68-70d745b89e74",
   "metadata": {},
   "outputs": [],
   "source": [
    "# Dictionaries in python\n",
    "pokemon_map = {\n",
    "    1 : \"Bulbasuar\",\n",
    "    2 : \"Pikachu\",\n",
    "    3 : \"Charmender\"\n",
    "}"
   ]
  },
  {
   "cell_type": "code",
   "execution_count": 16,
   "id": "c6c69f83-7378-4528-bf4b-23748a4c9c51",
   "metadata": {},
   "outputs": [
    {
     "data": {
      "text/plain": [
       "'Pikachu'"
      ]
     },
     "execution_count": 16,
     "metadata": {},
     "output_type": "execute_result"
    }
   ],
   "source": [
    "pokemon_map[2]"
   ]
  },
  {
   "cell_type": "code",
   "execution_count": 20,
   "id": "7460b0a4-d2d2-4f19-b97b-8e54c7df00a3",
   "metadata": {},
   "outputs": [
    {
     "name": "stdout",
     "output_type": "stream",
     "text": [
      "Bulbasuar\n",
      "Pikachu\n",
      "Charmender\n",
      "Pokemon not found\n",
      "Pokemon not found\n"
     ]
    }
   ],
   "source": [
    "for i in numbers_list_int:\n",
    "    if pokemon_map.get(i) is None:\n",
    "        print(\"Pokemon not found\")\n",
    "    else:\n",
    "        print(pokemon_map[i]);"
   ]
  },
  {
   "cell_type": "code",
   "execution_count": 22,
   "id": "6a00fe90-1e29-48d7-a0c2-5f3872c60074",
   "metadata": {},
   "outputs": [
    {
     "name": "stdout",
     "output_type": "stream",
     "text": [
      "<class 'tuple'>\n",
      "<class 'list'>\n"
     ]
    }
   ],
   "source": [
    "pokemons = [(\"Bulbasaur\", 200), (\"Pikachu\", 250), (\"Charmender\", 900, 700)]\n",
    "print(type(pokemons[0]))\n",
    "print(type(pokemons))"
   ]
  },
  {
   "cell_type": "code",
   "execution_count": 23,
   "id": "810e6e8d-e55e-4ed7-a319-5694318b9d41",
   "metadata": {},
   "outputs": [],
   "source": [
    "t = (\"A\", \"B\", \"C\")  # read only list"
   ]
  },
  {
   "cell_type": "code",
   "execution_count": 26,
   "id": "20f7b20b-c9a2-4898-a7db-b00d65c2bc65",
   "metadata": {},
   "outputs": [],
   "source": [
    "def printPokemons(numbers):\n",
    "    pokemon_map = {\n",
    "        1 : \"Bulbasuar\",\n",
    "        2 : \"Pikachu\",\n",
    "        3 : \"Charmender\"\n",
    "    }\n",
    "    \n",
    "    for i in numbers:\n",
    "        if pokemon_map.get(i) is None:\n",
    "            print(\"Pokemon not found\")\n",
    "        else:\n",
    "            print(pokemon_map[i]);\n",
    "    \n",
    "    return"
   ]
  },
  {
   "cell_type": "code",
   "execution_count": 27,
   "id": "d9191a00-52f3-4d6c-96ab-abadcf51fec5",
   "metadata": {},
   "outputs": [
    {
     "name": "stdin",
     "output_type": "stream",
     "text": [
      " 0 1 1 2 1 4\n"
     ]
    },
    {
     "name": "stdout",
     "output_type": "stream",
     "text": [
      "Pokemon not found\n",
      "Bulbasuar\n",
      "Bulbasuar\n",
      "Pikachu\n",
      "Bulbasuar\n",
      "Pokemon not found\n"
     ]
    }
   ],
   "source": [
    "numbers = [int(x) for x in input().split()]\n",
    "printPokemons(numbers)"
   ]
  },
  {
   "cell_type": "code",
   "execution_count": null,
   "id": "5babfd94-3e87-4079-af09-b6b945d31afc",
   "metadata": {},
   "outputs": [],
   "source": []
  }
 ],
 "metadata": {
  "kernelspec": {
   "display_name": "Python 3 (ipykernel)",
   "language": "python",
   "name": "python3"
  },
  "language_info": {
   "codemirror_mode": {
    "name": "ipython",
    "version": 3
   },
   "file_extension": ".py",
   "mimetype": "text/x-python",
   "name": "python",
   "nbconvert_exporter": "python",
   "pygments_lexer": "ipython3",
   "version": "3.9.6"
  }
 },
 "nbformat": 4,
 "nbformat_minor": 5
}
