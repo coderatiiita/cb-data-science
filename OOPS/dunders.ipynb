{
 "cells": [
  {
   "cell_type": "code",
   "execution_count": 1,
   "id": "30b6ddc4-2f1c-4c59-bfce-184f797db4b6",
   "metadata": {},
   "outputs": [],
   "source": [
    "class Car:\n",
    "    def __init__(self, model, mileage):\n",
    "        self.model = model\n",
    "        self.mileage = mileage\n",
    "        \n",
    "    def __str__(self):\n",
    "        return '{} {}'.format(self.model, self.mileage)\n",
    "    \n",
    "    def __repr__(self):\n",
    "        return '{}'.format(self.model)\n",
    "    \n",
    "    def __eq__(self, other):\n",
    "        return self.mileage == other.mileage\n",
    "    \n",
    "    def __add__(self, other):\n",
    "        return self.mileage + other.mileage\n",
    "    "
   ]
  },
  {
   "cell_type": "code",
   "execution_count": 2,
   "id": "09ddde29-df23-4c89-b631-dbe6e013104c",
   "metadata": {},
   "outputs": [],
   "source": [
    "c1 = Car('a', 2)\n",
    "c2 = Car('b', 2)"
   ]
  },
  {
   "cell_type": "code",
   "execution_count": 3,
   "id": "1d1bb0c9-983b-4487-a41b-6672f6193780",
   "metadata": {},
   "outputs": [
    {
     "data": {
      "text/plain": [
       "4"
      ]
     },
     "execution_count": 3,
     "metadata": {},
     "output_type": "execute_result"
    }
   ],
   "source": [
    "c1 + c2"
   ]
  },
  {
   "cell_type": "code",
   "execution_count": 4,
   "id": "b79909b0-c465-4cc7-b81b-b725ea0fc59f",
   "metadata": {},
   "outputs": [
    {
     "data": {
      "text/plain": [
       "'b 2'"
      ]
     },
     "execution_count": 4,
     "metadata": {},
     "output_type": "execute_result"
    }
   ],
   "source": [
    "str(c2)"
   ]
  },
  {
   "cell_type": "code",
   "execution_count": 5,
   "id": "e894ee87-ac91-4224-bebf-7b208df03f43",
   "metadata": {},
   "outputs": [
    {
     "data": {
      "text/plain": [
       "True"
      ]
     },
     "execution_count": 5,
     "metadata": {},
     "output_type": "execute_result"
    }
   ],
   "source": [
    "c1 == c2"
   ]
  },
  {
   "cell_type": "code",
   "execution_count": 8,
   "id": "267fdbce-1555-4264-b7f4-5b05f827a175",
   "metadata": {},
   "outputs": [
    {
     "data": {
      "text/plain": [
       "'a'"
      ]
     },
     "execution_count": 8,
     "metadata": {},
     "output_type": "execute_result"
    }
   ],
   "source": [
    "repr(c1)"
   ]
  },
  {
   "cell_type": "code",
   "execution_count": 10,
   "id": "2baa5584-b0dc-4296-a2e7-53bc50dcc383",
   "metadata": {},
   "outputs": [
    {
     "name": "stdout",
     "output_type": "stream",
     "text": [
      "shubham vashishtha"
     ]
    },
    {
     "data": {
      "text/plain": [
       "<__main__.Ostream at 0x105d0c7f0>"
      ]
     },
     "execution_count": 10,
     "metadata": {},
     "output_type": "execute_result"
    }
   ],
   "source": [
    "class Ostream:\n",
    "    def __lshift__(self, other):\n",
    "        print(other, end='')\n",
    "        return self\n",
    "    \n",
    "cout = Ostream()\n",
    "\n",
    "cout << 'shubham' << ' vashishtha'"
   ]
  },
  {
   "cell_type": "code",
   "execution_count": 20,
   "id": "1effb987-2bb4-4610-8ea3-031091ff7ea0",
   "metadata": {},
   "outputs": [],
   "source": [
    "class Dog:\n",
    "    kind = 'canine'  # class variable shared by all instances\n",
    "    tricks = []\n",
    "    def __init__(self, name):\n",
    "        self.name = name   # instance variable unique to each instance\n",
    "        \n",
    "    def add_trick(self, trick):\n",
    "        self.tricks.append(trick)"
   ]
  },
  {
   "cell_type": "code",
   "execution_count": 31,
   "id": "6ae5e5f2-8667-46ac-a5f7-f710ccc16425",
   "metadata": {},
   "outputs": [],
   "source": [
    "a = Dog('tuffy')"
   ]
  },
  {
   "cell_type": "code",
   "execution_count": 32,
   "id": "0d485a33-a53d-4964-bb42-c2ffbfa72f36",
   "metadata": {},
   "outputs": [],
   "source": [
    "a.add_trick('fetch')\n",
    "a.add_trick('talk')"
   ]
  },
  {
   "cell_type": "code",
   "execution_count": 33,
   "id": "bb4b0d8c-cb92-4c18-b9a1-f9aeede47ed8",
   "metadata": {},
   "outputs": [],
   "source": [
    "b = Dog('maxx')"
   ]
  },
  {
   "cell_type": "code",
   "execution_count": 17,
   "id": "d43bb963-696c-400b-9ceb-d35aefd48c10",
   "metadata": {},
   "outputs": [
    {
     "data": {
      "text/plain": [
       "'something'"
      ]
     },
     "execution_count": 17,
     "metadata": {},
     "output_type": "execute_result"
    }
   ],
   "source": [
    "b.kind"
   ]
  },
  {
   "cell_type": "code",
   "execution_count": 16,
   "id": "348cc8f4-3828-48cb-a010-6582735f9b5b",
   "metadata": {},
   "outputs": [],
   "source": [
    "b.kind = 'something'"
   ]
  },
  {
   "cell_type": "code",
   "execution_count": 23,
   "id": "b6ee71b5-7fa5-45c5-902a-19ae00efd9ed",
   "metadata": {},
   "outputs": [
    {
     "data": {
      "text/plain": [
       "['fetch', 'talk']"
      ]
     },
     "execution_count": 23,
     "metadata": {},
     "output_type": "execute_result"
    }
   ],
   "source": [
    "a.tricks"
   ]
  },
  {
   "cell_type": "code",
   "execution_count": 26,
   "id": "042b8b4d-bfcc-4894-b9b9-bfff11f47b5e",
   "metadata": {},
   "outputs": [
    {
     "data": {
      "text/plain": [
       "['fetch', 'talk']"
      ]
     },
     "execution_count": 26,
     "metadata": {},
     "output_type": "execute_result"
    }
   ],
   "source": [
    "b.tricks"
   ]
  },
  {
   "cell_type": "code",
   "execution_count": 34,
   "id": "6c203f38-54d6-49a9-ad5a-50ac0571a168",
   "metadata": {},
   "outputs": [
    {
     "data": {
      "text/plain": [
       "4474990336"
      ]
     },
     "execution_count": 34,
     "metadata": {},
     "output_type": "execute_result"
    }
   ],
   "source": [
    "id(a.tricks)"
   ]
  },
  {
   "cell_type": "code",
   "execution_count": 35,
   "id": "07626a18-1e2b-4bbb-b33d-0968eca9aa8d",
   "metadata": {},
   "outputs": [
    {
     "data": {
      "text/plain": [
       "4474579904"
      ]
     },
     "execution_count": 35,
     "metadata": {},
     "output_type": "execute_result"
    }
   ],
   "source": [
    "id(b.tricks)"
   ]
  },
  {
   "cell_type": "code",
   "execution_count": 37,
   "id": "a6c1fb2d-de11-433b-a899-030e1107555c",
   "metadata": {},
   "outputs": [
    {
     "data": {
      "text/plain": [
       "4474987824"
      ]
     },
     "execution_count": 37,
     "metadata": {},
     "output_type": "execute_result"
    }
   ],
   "source": [
    "id(Dog.kind)"
   ]
  },
  {
   "cell_type": "code",
   "execution_count": 30,
   "id": "83b87bf7-b37e-43d3-89df-e1a38abe2ea3",
   "metadata": {},
   "outputs": [],
   "source": [
    "class Dog:\n",
    "    kind = 'canine'  # class variable shared by all instances\n",
    "    def __init__(self, name):\n",
    "        self.name = name   # instance variable unique to each instance\n",
    "        self.tricks = []\n",
    "        \n",
    "    def add_trick(self, trick):\n",
    "        self.tricks.append(trick)"
   ]
  },
  {
   "cell_type": "code",
   "execution_count": null,
   "id": "1cc5a237-7698-4268-8276-29be30be0660",
   "metadata": {},
   "outputs": [],
   "source": []
  }
 ],
 "metadata": {
  "kernelspec": {
   "display_name": "Python 3 (ipykernel)",
   "language": "python",
   "name": "python3"
  },
  "language_info": {
   "codemirror_mode": {
    "name": "ipython",
    "version": 3
   },
   "file_extension": ".py",
   "mimetype": "text/x-python",
   "name": "python",
   "nbconvert_exporter": "python",
   "pygments_lexer": "ipython3",
   "version": "3.9.5"
  }
 },
 "nbformat": 4,
 "nbformat_minor": 5
}
