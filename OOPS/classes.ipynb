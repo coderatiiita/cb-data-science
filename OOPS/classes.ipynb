{
 "cells": [
  {
   "cell_type": "code",
   "execution_count": 1,
   "id": "596ec9be-2c93-4f1b-b694-c40bd5c8de1f",
   "metadata": {},
   "outputs": [],
   "source": [
    "class Person:\n",
    "    pass"
   ]
  },
  {
   "cell_type": "code",
   "execution_count": 3,
   "id": "fb7e77d0-92b3-4706-b8cb-1fae122fc8df",
   "metadata": {},
   "outputs": [
    {
     "name": "stdout",
     "output_type": "stream",
     "text": [
      "<__main__.Person object at 0x103671b50>\n"
     ]
    }
   ],
   "source": [
    "p = Person()\n",
    "print(p)"
   ]
  },
  {
   "cell_type": "code",
   "execution_count": 4,
   "id": "7b38796a-8741-48ae-8f9e-d8365b582892",
   "metadata": {},
   "outputs": [
    {
     "name": "stdout",
     "output_type": "stream",
     "text": [
      "True\n"
     ]
    }
   ],
   "source": [
    "print(isinstance(print, object))"
   ]
  },
  {
   "cell_type": "code",
   "execution_count": 5,
   "id": "c2b81165-f2bf-4aba-8f6a-f86144338fac",
   "metadata": {},
   "outputs": [
    {
     "name": "stdout",
     "output_type": "stream",
     "text": [
      "True\n"
     ]
    }
   ],
   "source": [
    "print(isinstance(isinstance, object))"
   ]
  },
  {
   "cell_type": "code",
   "execution_count": 6,
   "id": "10b9b733-e048-4c42-b1d6-256bdfbd6f3f",
   "metadata": {},
   "outputs": [
    {
     "name": "stdout",
     "output_type": "stream",
     "text": [
      "True\n"
     ]
    }
   ],
   "source": [
    "print(isinstance(3, object))"
   ]
  },
  {
   "cell_type": "code",
   "execution_count": 7,
   "id": "34e97069-d39a-408b-a969-06ef008bc470",
   "metadata": {},
   "outputs": [
    {
     "name": "stdout",
     "output_type": "stream",
     "text": [
      "True\n"
     ]
    }
   ],
   "source": [
    "print(isinstance(2.0, object))"
   ]
  },
  {
   "cell_type": "code",
   "execution_count": 8,
   "id": "346ac7dd-9895-4fc4-b43d-300dc735a75d",
   "metadata": {},
   "outputs": [
    {
     "name": "stdout",
     "output_type": "stream",
     "text": [
      "True\n"
     ]
    }
   ],
   "source": [
    "print(isinstance(\"shubham\", object))"
   ]
  },
  {
   "cell_type": "code",
   "execution_count": 9,
   "id": "cb32357d-38b6-45e6-8928-b97dbad93ad2",
   "metadata": {},
   "outputs": [
    {
     "name": "stdout",
     "output_type": "stream",
     "text": [
      "True\n"
     ]
    }
   ],
   "source": [
    "print(isinstance(p, object))"
   ]
  },
  {
   "cell_type": "code",
   "execution_count": 11,
   "id": "12d6769d-b1c4-4962-8a8a-b03ece9b45c6",
   "metadata": {},
   "outputs": [
    {
     "data": {
      "text/plain": [
       "'0x103671b50'"
      ]
     },
     "execution_count": 11,
     "metadata": {},
     "output_type": "execute_result"
    }
   ],
   "source": [
    "hex(id(p))"
   ]
  },
  {
   "cell_type": "code",
   "execution_count": 6,
   "id": "e4cb1f0e-24e1-461e-b206-173d887248d7",
   "metadata": {},
   "outputs": [
    {
     "name": "stdout",
     "output_type": "stream",
     "text": [
      "Hello, my name is shubham\n",
      "Hello, my name is shubham\n"
     ]
    }
   ],
   "source": [
    "class Person:\n",
    "    #not a constructor, like a hook\n",
    "    def __init__(self, name):  # dunders or magic functions\n",
    "        self.name = name\n",
    "    def say_hi(self):\n",
    "        print('Hello, my name is', self.name)\n",
    "        \n",
    "p = Person('shubham')\n",
    "p.say_hi()\n",
    "\n",
    "Person.say_hi(p)"
   ]
  },
  {
   "cell_type": "code",
   "execution_count": null,
   "id": "af690d5c-06b3-4c60-9177-594c8c6112af",
   "metadata": {},
   "outputs": [],
   "source": []
  }
 ],
 "metadata": {
  "kernelspec": {
   "display_name": "Python 3 (ipykernel)",
   "language": "python",
   "name": "python3"
  },
  "language_info": {
   "codemirror_mode": {
    "name": "ipython",
    "version": 3
   },
   "file_extension": ".py",
   "mimetype": "text/x-python",
   "name": "python",
   "nbconvert_exporter": "python",
   "pygments_lexer": "ipython3",
   "version": "3.9.5"
  }
 },
 "nbformat": 4,
 "nbformat_minor": 5
}
