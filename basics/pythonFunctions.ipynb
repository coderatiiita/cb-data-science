{
 "cells": [
  {
   "cell_type": "code",
   "execution_count": 6,
   "id": "eb7f332d-175a-4ad9-968b-b8d3d96a3c6f",
   "metadata": {},
   "outputs": [
    {
     "ename": "SyntaxError",
     "evalue": "invalid syntax (2452051705.py, line 1)",
     "output_type": "error",
     "traceback": [
      "\u001b[0;36m  File \u001b[0;32m\"/var/folders/v0/l9y1q1p51blbsl565v7t3hyc0000gn/T/ipykernel_9845/2452051705.py\"\u001b[0;36m, line \u001b[0;32m1\u001b[0m\n\u001b[0;31m    def abc(a,b,c,d=10,e=20)\u001b[0m\n\u001b[0m                            ^\u001b[0m\n\u001b[0;31mSyntaxError\u001b[0m\u001b[0;31m:\u001b[0m invalid syntax\n"
     ]
    }
   ],
   "source": [
    "def abc(a,b,c,d=10,e=20)"
   ]
  },
  {
   "cell_type": "code",
   "execution_count": 3,
   "id": "c1ce2358-44a8-4938-9278-05fa9e059754",
   "metadata": {},
   "outputs": [],
   "source": [
    "def show(a,b,c):\n",
    "    print(a)\n",
    "    print(b)\n",
    "    print(c)"
   ]
  },
  {
   "cell_type": "code",
   "execution_count": 7,
   "id": "397332fd-6745-410a-9516-a635b4ff158b",
   "metadata": {},
   "outputs": [
    {
     "name": "stdout",
     "output_type": "stream",
     "text": [
      "world\n",
      "hello\n",
      "python\n"
     ]
    }
   ],
   "source": [
    "show(b = 'hello', a = 'world', c = 'python')"
   ]
  },
  {
   "cell_type": "code",
   "execution_count": 8,
   "id": "2b02f607-f652-4bbf-84ae-4e30a3bfb9f3",
   "metadata": {},
   "outputs": [],
   "source": [
    "def show2(a,b,c,d=\"abc\",e=\"xyz\"):\n",
    "    print(a)\n",
    "    print(b)\n",
    "    print(c)\n",
    "    print(d)\n",
    "    print(e)"
   ]
  },
  {
   "cell_type": "code",
   "execution_count": 9,
   "id": "b752cf3d-ad3e-401c-98f5-061aa61fe9f6",
   "metadata": {},
   "outputs": [
    {
     "name": "stdout",
     "output_type": "stream",
     "text": [
      "hello\n",
      "world\n",
      "python\n",
      "abc\n",
      "shubham\n"
     ]
    }
   ],
   "source": [
    "show2(\"hello\", \"world\", \"python\", e = \"shubham\")"
   ]
  },
  {
   "cell_type": "code",
   "execution_count": 10,
   "id": "74711ca6-d9ff-4cb8-8024-af9b4b8e3df0",
   "metadata": {},
   "outputs": [
    {
     "name": "stdout",
     "output_type": "stream",
     "text": [
      "shubham vashishtha is a student\n"
     ]
    }
   ],
   "source": [
    "print('shubham', 'vashishtha', 'is', 'a', 'student')"
   ]
  },
  {
   "cell_type": "code",
   "execution_count": 14,
   "id": "aebf6878-8676-4352-9f51-f2925df36b44",
   "metadata": {},
   "outputs": [],
   "source": [
    "def show3(a,b,c,*args):\n",
    "    print(args)"
   ]
  },
  {
   "cell_type": "code",
   "execution_count": 15,
   "id": "021aa0ab-6436-4044-a528-7daed599436b",
   "metadata": {},
   "outputs": [
    {
     "name": "stdout",
     "output_type": "stream",
     "text": [
      "('jatin',)\n"
     ]
    }
   ],
   "source": [
    "show3(1,2,3,'jatin')"
   ]
  },
  {
   "cell_type": "code",
   "execution_count": 21,
   "id": "faca3397-54e4-45e0-a24b-b1e13a6ed763",
   "metadata": {},
   "outputs": [],
   "source": [
    "def show4(a,b,c,*args, d=10, e=20, **kwargs):\n",
    "    print(a)\n",
    "    print(args)\n",
    "    print(d)\n",
    "    print(e)\n",
    "    print(kwargs)"
   ]
  },
  {
   "cell_type": "code",
   "execution_count": 22,
   "id": "38efb6a6-d7ce-4307-8e56-d19151007c8f",
   "metadata": {},
   "outputs": [
    {
     "name": "stdout",
     "output_type": "stream",
     "text": [
      "1\n",
      "('jatin', 'katyal')\n",
      "100\n",
      "20\n",
      "{'name': 'shubham'}\n"
     ]
    }
   ],
   "source": [
    "show4(1,2,3,\"jatin\", \"katyal\", d=100, name='shubham')"
   ]
  },
  {
   "cell_type": "code",
   "execution_count": null,
   "id": "3de923c0-95c8-4d79-bb64-706d77de1406",
   "metadata": {},
   "outputs": [],
   "source": []
  }
 ],
 "metadata": {
  "kernelspec": {
   "display_name": "Python 3 (ipykernel)",
   "language": "python",
   "name": "python3"
  },
  "language_info": {
   "codemirror_mode": {
    "name": "ipython",
    "version": 3
   },
   "file_extension": ".py",
   "mimetype": "text/x-python",
   "name": "python",
   "nbconvert_exporter": "python",
   "pygments_lexer": "ipython3",
   "version": "3.9.5"
  }
 },
 "nbformat": 4,
 "nbformat_minor": 5
}
