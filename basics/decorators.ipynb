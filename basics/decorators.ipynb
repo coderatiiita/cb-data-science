{
 "cells": [
  {
   "cell_type": "code",
   "execution_count": 3,
   "id": "a15e5fce-ee95-492a-9e35-cd06aa967b66",
   "metadata": {},
   "outputs": [],
   "source": [
    "users = {\n",
    "    \"jatin\" : \"password\"\n",
    "}"
   ]
  },
  {
   "cell_type": "code",
   "execution_count": 5,
   "id": "01f0a13f-9357-4f67-a9d4-a643bdb953b1",
   "metadata": {},
   "outputs": [],
   "source": [
    "def show(username, password):\n",
    "    if username in users and users[username] == password:\n",
    "        print(\"Hello world\")\n",
    "    else:\n",
    "        print(\"not auth\")"
   ]
  },
  {
   "cell_type": "code",
   "execution_count": 9,
   "id": "f264deac-05f5-4af8-8567-537d9ccd059c",
   "metadata": {},
   "outputs": [
    {
     "name": "stdout",
     "output_type": "stream",
     "text": [
      "Hello world\n"
     ]
    }
   ],
   "source": [
    "show(\"jatin\", \"password\")"
   ]
  },
  {
   "cell_type": "code",
   "execution_count": 12,
   "id": "a3ad02f1-1bcf-4c50-b88c-26a69c270b56",
   "metadata": {},
   "outputs": [
    {
     "name": "stdout",
     "output_type": "stream",
     "text": [
      "1 2 3\n",
      "1 2 3\n"
     ]
    }
   ],
   "source": [
    "tple = (1,2,3)\n",
    "lst = [1,2,3]\n",
    "print(*tple)\n",
    "print(*lst)"
   ]
  },
  {
   "cell_type": "code",
   "execution_count": 23,
   "id": "90afbc12-2a0c-4f3a-b6e8-7e5c6ba7af86",
   "metadata": {},
   "outputs": [],
   "source": [
    "def add(a,b):\n",
    "    print(a+b)\n",
    "add = login_required(add)\n",
    "\n",
    "@login_required\n",
    "def add(a,b):\n",
    "    print(a+b)"
   ]
  },
  {
   "cell_type": "code",
   "execution_count": 16,
   "id": "f8130d76-aac7-48cc-b6e4-c3c34a704615",
   "metadata": {},
   "outputs": [],
   "source": [
    "def login_required(func):\n",
    "    def wrapper(username, password, *args, **kwargs):\n",
    "        if username in users and users[username] == password:\n",
    "            func(*args, **kwargs)\n",
    "        else:\n",
    "            print('not authenticated')\n",
    "    return wrapper"
   ]
  },
  {
   "cell_type": "code",
   "execution_count": 17,
   "id": "61ab624f-43f0-479c-bc36-c142ce039b05",
   "metadata": {},
   "outputs": [],
   "source": [
    "protected_add = login_required(add)"
   ]
  },
  {
   "cell_type": "code",
   "execution_count": 18,
   "id": "cb1b9a05-22f8-4eff-b919-8e659c210c4e",
   "metadata": {},
   "outputs": [
    {
     "data": {
      "text/plain": [
       "function"
      ]
     },
     "execution_count": 18,
     "metadata": {},
     "output_type": "execute_result"
    }
   ],
   "source": [
    "type(protected_add)"
   ]
  },
  {
   "cell_type": "code",
   "execution_count": 24,
   "id": "97f07013-d461-4c78-94a6-9e91294488f7",
   "metadata": {},
   "outputs": [
    {
     "name": "stdout",
     "output_type": "stream",
     "text": [
      "3\n"
     ]
    }
   ],
   "source": [
    "add(\"jatin\", \"password\", 1,2)"
   ]
  },
  {
   "cell_type": "code",
   "execution_count": 25,
   "id": "039e7781-b9eb-4c42-954c-b6cd91dd0984",
   "metadata": {},
   "outputs": [
    {
     "name": "stdout",
     "output_type": "stream",
     "text": [
      "not authenticated\n"
     ]
    }
   ],
   "source": [
    "add(\"jatin\", \"password123\", 1,2)"
   ]
  },
  {
   "cell_type": "code",
   "execution_count": 22,
   "id": "2e21b0e2-9b57-4a77-ab4c-aca4fb392936",
   "metadata": {},
   "outputs": [],
   "source": []
  },
  {
   "cell_type": "code",
   "execution_count": null,
   "id": "50321db2-705d-4c4a-ac61-65afdd18012b",
   "metadata": {},
   "outputs": [],
   "source": []
  }
 ],
 "metadata": {
  "kernelspec": {
   "display_name": "Python 3 (ipykernel)",
   "language": "python",
   "name": "python3"
  },
  "language_info": {
   "codemirror_mode": {
    "name": "ipython",
    "version": 3
   },
   "file_extension": ".py",
   "mimetype": "text/x-python",
   "name": "python",
   "nbconvert_exporter": "python",
   "pygments_lexer": "ipython3",
   "version": "3.9.5"
  }
 },
 "nbformat": 4,
 "nbformat_minor": 5
}
