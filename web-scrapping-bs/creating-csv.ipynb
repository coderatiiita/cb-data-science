{
 "cells": [
  {
   "cell_type": "code",
   "execution_count": 32,
   "id": "0b21431d-6a78-466d-97c0-f823d9315205",
   "metadata": {},
   "outputs": [],
   "source": [
    " from urllib.request import urlopen"
   ]
  },
  {
   "cell_type": "code",
   "execution_count": 33,
   "id": "1ed7391a-66ea-4221-8f08-ded0b537733a",
   "metadata": {},
   "outputs": [],
   "source": [
    "android_url = 'https://en.wikipedia.org/wiki/Android_version_history'"
   ]
  },
  {
   "cell_type": "code",
   "execution_count": 34,
   "id": "3ae02492-8a89-40a7-8b45-eb1bcd699fbe",
   "metadata": {},
   "outputs": [
    {
     "name": "stdout",
     "output_type": "stream",
     "text": [
      "<class 'http.client.HTTPResponse'>\n"
     ]
    }
   ],
   "source": [
    "android_data = urlopen(android_url)\n",
    "print(type(android_data))"
   ]
  },
  {
   "cell_type": "code",
   "execution_count": 35,
   "id": "3c0b2acd-73c6-49ef-a1b5-950f2cff21df",
   "metadata": {},
   "outputs": [],
   "source": [
    "android_html = android_data.read()\n",
    "#print(android_html)\n",
    "android_data.close()"
   ]
  },
  {
   "cell_type": "code",
   "execution_count": 36,
   "id": "416f9222-9645-434f-8627-7e1ab6ec8db1",
   "metadata": {},
   "outputs": [],
   "source": [
    "from bs4 import BeautifulSoup as soup"
   ]
  },
  {
   "cell_type": "code",
   "execution_count": 37,
   "id": "1488faa6-2baa-4dc0-bea2-d72c96847c81",
   "metadata": {},
   "outputs": [
    {
     "name": "stdout",
     "output_type": "stream",
     "text": [
      "<class 'bs4.BeautifulSoup'>\n"
     ]
    }
   ],
   "source": [
    "android_soup = soup(android_html, 'html.parser')\n",
    "#print(android_soup)\n",
    "print(type(android_soup))"
   ]
  },
  {
   "cell_type": "code",
   "execution_count": 38,
   "id": "004c98b3-d86b-4057-8dac-dc9015f8a8ba",
   "metadata": {},
   "outputs": [
    {
     "name": "stdout",
     "output_type": "stream",
     "text": [
      "32\n"
     ]
    }
   ],
   "source": [
    "tables = android_soup.findAll('table', {'class':'wikitable'})\n",
    "print(len(tables))"
   ]
  },
  {
   "cell_type": "code",
   "execution_count": 42,
   "id": "cb83fe18-70d8-424e-970c-078b0d1231f9",
   "metadata": {},
   "outputs": [],
   "source": [
    "android_table = tables[0]\n",
    "#print(android_table)"
   ]
  },
  {
   "cell_type": "code",
   "execution_count": 60,
   "id": "fc8635cd-b07c-4e85-bcda-fbdbeeb01710",
   "metadata": {},
   "outputs": [
    {
     "name": "stdout",
     "output_type": "stream",
     "text": [
      "6\n"
     ]
    }
   ],
   "source": [
    "headers = android_table.findAll('th')[:-1]\n",
    "print(len(headers))"
   ]
  },
  {
   "cell_type": "code",
   "execution_count": 61,
   "id": "a6031dac-da3c-4f3a-8885-e7dab23daf4c",
   "metadata": {},
   "outputs": [
    {
     "data": {
      "text/plain": [
       "'Name\\n'"
      ]
     },
     "execution_count": 61,
     "metadata": {},
     "output_type": "execute_result"
    }
   ],
   "source": [
    "headers[0].text"
   ]
  },
  {
   "cell_type": "code",
   "execution_count": 62,
   "id": "5e550e71-b87a-4a99-875d-75b9a9afbc8f",
   "metadata": {},
   "outputs": [
    {
     "name": "stdout",
     "output_type": "stream",
     "text": [
      "['Name', 'Internal codename', 'Version number(s)', 'Initial stablerelease date', 'Supported(security fixes)', 'API level']\n"
     ]
    }
   ],
   "source": [
    "column_titles = [ ct.text[:-1] for ct in headers ]\n",
    "print(column_titles)"
   ]
  },
  {
   "cell_type": "code",
   "execution_count": 63,
   "id": "2ede99d1-e8ec-46ca-a6cd-e72d5a9db90f",
   "metadata": {},
   "outputs": [
    {
     "name": "stdout",
     "output_type": "stream",
     "text": [
      "31\n",
      "Android 1.0\n",
      "N/A\n",
      "1.0\n",
      "September 23, 2008\n",
      "No\n",
      "1\n"
     ]
    }
   ],
   "source": [
    "rows_data = android_table.findAll('tr')[1:]\n",
    "print(len(rows_data))\n",
    "first_row = rows_data[0].findAll('td', {})[:-1]\n",
    "\n",
    "for d in first_row:\n",
    "    print(d.text[:-1])"
   ]
  },
  {
   "cell_type": "code",
   "execution_count": 73,
   "id": "e789b6e5-6378-472b-9027-b5709b0b8498",
   "metadata": {},
   "outputs": [],
   "source": [
    "table_rows = []\n",
    "for row in rows_data:\n",
    "    current_row = []\n",
    "    row_data = row.findAll('td', {})[:-1]\n",
    "    if len(row_data) != 6:\n",
    "        continue\n",
    "    for idx,data in enumerate(row_data):\n",
    "        if idx == 0:\n",
    "            current_row.append(data.text[:-1])\n",
    "        else:\n",
    "            current_row.append(data.text[:-1])\n",
    "            \n",
    "    table_rows.append(current_row)"
   ]
  },
  {
   "cell_type": "code",
   "execution_count": 74,
   "id": "b18a04a7-303d-4374-b779-bbb3c7a6e74a",
   "metadata": {},
   "outputs": [
    {
     "name": "stdout",
     "output_type": "stream",
     "text": [
      "['Android 1.0', 'N/A', '1.0', 'September 23, 2008', 'No', '1']\n",
      "['Android 1.1', 'Petit Four', '1.1', 'February 9, 2009', 'No', '2']\n",
      "['Android Cupcake', 'Cupcake', '1.5', 'April 27, 2009', 'No', '3']\n",
      "['Android Donut', 'Donut', '1.6', 'September 15, 2009', 'No', '4']\n",
      "['Android Eclair', 'Eclair', '2.0', 'October 27, 2009', 'No', '5']\n",
      "['Android Froyo', 'Froyo', '2.2 – 2.2.3', 'May 20, 2010', 'No', '8']\n",
      "['Android Gingerbread', 'Gingerbread', '2.3 – 2.3.2', 'December 6, 2010', 'No', '9']\n",
      "['Android Honeycomb', 'Honeycomb', '3.0', 'February 22, 2011', 'No', '11']\n",
      "['Android Ice Cream Sandwich', 'Ice Cream Sandwich', '4.0 – 4.0.2', 'October 18, 2011', 'No', '14']\n",
      "['Android Jelly Bean', 'Jelly Bean', '4.1 – 4.1.2', 'July 9, 2012', 'No', '16']\n",
      "['Android KitKat', 'Key Lime Pie', '4.4 – 4.4.4', 'October 31, 2013', 'No', '19']\n",
      "['Android Lollipop', 'Lemon Meringue Pie', '5.0 – 5.0.2', 'November 4, 2014', 'No', '21']\n",
      "['Android Marshmallow', 'Macadamia Nut Cookie', '6.0 – 6.0.1', 'October 2, 2015', 'No', '23']\n",
      "['Android Nougat', 'New York Cheesecake', '7.0', 'August 22, 2016', 'No', '24']\n",
      "['Android Oreo', 'Oatmeal Cookie', '8.0', 'August 21, 2017', 'No', '26']\n",
      "['Android Pie', '', '9', 'August 6, 2018', 'Yes', '28']\n",
      "['Android 10', 'Quince Tart', '10', 'September 3, 2019', 'Yes', '29']\n",
      "['Android 11', 'Red Velvet Cake', '11', 'September 8, 2020', 'Yes', '30']\n",
      "['Android 12', 'Snow Cone', '12', 'TBA', 'Presupported', '31']\n"
     ]
    }
   ],
   "source": [
    "for d in table_rows:\n",
    "    print(d)"
   ]
  },
  {
   "cell_type": "code",
   "execution_count": 75,
   "id": "d5d62d32-5e91-474b-83ff-869b6c7c9fa3",
   "metadata": {},
   "outputs": [
    {
     "name": "stdout",
     "output_type": "stream",
     "text": [
      "[['Android 1.0', 'N/A', '1.0', 'September 23, 2008', 'No', '1'], ['Android 1.1', 'Petit Four', '1.1', 'February 9, 2009', 'No', '2'], ['Android Cupcake', 'Cupcake', '1.5', 'April 27, 2009', 'No', '3'], ['Android Donut', 'Donut', '1.6', 'September 15, 2009', 'No', '4'], ['Android Eclair', 'Eclair', '2.0', 'October 27, 2009', 'No', '5'], ['Android Froyo', 'Froyo', '2.2 – 2.2.3', 'May 20, 2010', 'No', '8'], ['Android Gingerbread', 'Gingerbread', '2.3 – 2.3.2', 'December 6, 2010', 'No', '9'], ['Android Honeycomb', 'Honeycomb', '3.0', 'February 22, 2011', 'No', '11'], ['Android Ice Cream Sandwich', 'Ice Cream Sandwich', '4.0 – 4.0.2', 'October 18, 2011', 'No', '14'], ['Android Jelly Bean', 'Jelly Bean', '4.1 – 4.1.2', 'July 9, 2012', 'No', '16'], ['Android KitKat', 'Key Lime Pie', '4.4 – 4.4.4', 'October 31, 2013', 'No', '19'], ['Android Lollipop', 'Lemon Meringue Pie', '5.0 – 5.0.2', 'November 4, 2014', 'No', '21'], ['Android Marshmallow', 'Macadamia Nut Cookie', '6.0 – 6.0.1', 'October 2, 2015', 'No', '23'], ['Android Nougat', 'New York Cheesecake', '7.0', 'August 22, 2016', 'No', '24'], ['Android Oreo', 'Oatmeal Cookie', '8.0', 'August 21, 2017', 'No', '26'], ['Android Pie', '', '9', 'August 6, 2018', 'Yes', '28'], ['Android 10', 'Quince Tart', '10', 'September 3, 2019', 'Yes', '29'], ['Android 11', 'Red Velvet Cake', '11', 'September 8, 2020', 'Yes', '30'], ['Android 12', 'Snow Cone', '12', 'TBA', 'Presupported', '31']]\n"
     ]
    }
   ],
   "source": [
    "print(table_rows)"
   ]
  },
  {
   "cell_type": "code",
   "execution_count": 79,
   "id": "c04c2f3a-dddf-43cc-b15d-a955db7698ff",
   "metadata": {},
   "outputs": [],
   "source": [
    "filename = 'android_version_history.csv'\n",
    "with open(filename, 'w', encoding='utf-8') as f:\n",
    "    header_string = ','.join(column_titles)\n",
    "    header_string += '\\n'\n",
    "    f.write(header_string)\n",
    "    \n",
    "    for row in table_rows:\n",
    "        row_string = ''\n",
    "        for idx, w in enumerate(row):\n",
    "            w = w.replace(',','')\n",
    "            row_string += w\n",
    "            if idx != len(row)-1:\n",
    "                row_string += ','\n",
    "        row_string += '\\n'\n",
    "        f.write(row_string)"
   ]
  },
  {
   "cell_type": "code",
   "execution_count": 80,
   "id": "9896623b-2fee-44ee-bd36-4c4de7cb1b91",
   "metadata": {},
   "outputs": [],
   "source": [
    "import pandas as pd"
   ]
  },
  {
   "cell_type": "code",
   "execution_count": 81,
   "id": "a5e958cf-afd1-4ead-8507-3169aab9031a",
   "metadata": {},
   "outputs": [],
   "source": [
    "df = pd.read_csv('android_version_history.csv')"
   ]
  },
  {
   "cell_type": "code",
   "execution_count": 82,
   "id": "41ed6181-4ab2-48d1-b47e-dffa2105f221",
   "metadata": {},
   "outputs": [
    {
     "data": {
      "text/html": [
       "<div>\n",
       "<style scoped>\n",
       "    .dataframe tbody tr th:only-of-type {\n",
       "        vertical-align: middle;\n",
       "    }\n",
       "\n",
       "    .dataframe tbody tr th {\n",
       "        vertical-align: top;\n",
       "    }\n",
       "\n",
       "    .dataframe thead th {\n",
       "        text-align: right;\n",
       "    }\n",
       "</style>\n",
       "<table border=\"1\" class=\"dataframe\">\n",
       "  <thead>\n",
       "    <tr style=\"text-align: right;\">\n",
       "      <th></th>\n",
       "      <th>Name</th>\n",
       "      <th>Internal codename</th>\n",
       "      <th>Version number(s)</th>\n",
       "      <th>Initial stablerelease date</th>\n",
       "      <th>Supported(security fixes)</th>\n",
       "      <th>API level</th>\n",
       "    </tr>\n",
       "  </thead>\n",
       "  <tbody>\n",
       "    <tr>\n",
       "      <th>0</th>\n",
       "      <td>Android 1.0</td>\n",
       "      <td>NaN</td>\n",
       "      <td>1.0</td>\n",
       "      <td>September 23 2008</td>\n",
       "      <td>No</td>\n",
       "      <td>1</td>\n",
       "    </tr>\n",
       "    <tr>\n",
       "      <th>1</th>\n",
       "      <td>Android 1.1</td>\n",
       "      <td>Petit Four</td>\n",
       "      <td>1.1</td>\n",
       "      <td>February 9 2009</td>\n",
       "      <td>No</td>\n",
       "      <td>2</td>\n",
       "    </tr>\n",
       "    <tr>\n",
       "      <th>2</th>\n",
       "      <td>Android Cupcake</td>\n",
       "      <td>Cupcake</td>\n",
       "      <td>1.5</td>\n",
       "      <td>April 27 2009</td>\n",
       "      <td>No</td>\n",
       "      <td>3</td>\n",
       "    </tr>\n",
       "    <tr>\n",
       "      <th>3</th>\n",
       "      <td>Android Donut</td>\n",
       "      <td>Donut</td>\n",
       "      <td>1.6</td>\n",
       "      <td>September 15 2009</td>\n",
       "      <td>No</td>\n",
       "      <td>4</td>\n",
       "    </tr>\n",
       "    <tr>\n",
       "      <th>4</th>\n",
       "      <td>Android Eclair</td>\n",
       "      <td>Eclair</td>\n",
       "      <td>2.0</td>\n",
       "      <td>October 27 2009</td>\n",
       "      <td>No</td>\n",
       "      <td>5</td>\n",
       "    </tr>\n",
       "    <tr>\n",
       "      <th>5</th>\n",
       "      <td>Android Froyo</td>\n",
       "      <td>Froyo</td>\n",
       "      <td>2.2 – 2.2.3</td>\n",
       "      <td>May 20 2010</td>\n",
       "      <td>No</td>\n",
       "      <td>8</td>\n",
       "    </tr>\n",
       "    <tr>\n",
       "      <th>6</th>\n",
       "      <td>Android Gingerbread</td>\n",
       "      <td>Gingerbread</td>\n",
       "      <td>2.3 – 2.3.2</td>\n",
       "      <td>December 6 2010</td>\n",
       "      <td>No</td>\n",
       "      <td>9</td>\n",
       "    </tr>\n",
       "    <tr>\n",
       "      <th>7</th>\n",
       "      <td>Android Honeycomb</td>\n",
       "      <td>Honeycomb</td>\n",
       "      <td>3.0</td>\n",
       "      <td>February 22 2011</td>\n",
       "      <td>No</td>\n",
       "      <td>11</td>\n",
       "    </tr>\n",
       "    <tr>\n",
       "      <th>8</th>\n",
       "      <td>Android Ice Cream Sandwich</td>\n",
       "      <td>Ice Cream Sandwich</td>\n",
       "      <td>4.0 – 4.0.2</td>\n",
       "      <td>October 18 2011</td>\n",
       "      <td>No</td>\n",
       "      <td>14</td>\n",
       "    </tr>\n",
       "    <tr>\n",
       "      <th>9</th>\n",
       "      <td>Android Jelly Bean</td>\n",
       "      <td>Jelly Bean</td>\n",
       "      <td>4.1 – 4.1.2</td>\n",
       "      <td>July 9 2012</td>\n",
       "      <td>No</td>\n",
       "      <td>16</td>\n",
       "    </tr>\n",
       "  </tbody>\n",
       "</table>\n",
       "</div>"
      ],
      "text/plain": [
       "                         Name   Internal codename Version number(s)  \\\n",
       "0                 Android 1.0                 NaN               1.0   \n",
       "1                 Android 1.1          Petit Four               1.1   \n",
       "2             Android Cupcake             Cupcake               1.5   \n",
       "3               Android Donut               Donut               1.6   \n",
       "4              Android Eclair              Eclair               2.0   \n",
       "5               Android Froyo               Froyo       2.2 – 2.2.3   \n",
       "6         Android Gingerbread         Gingerbread       2.3 – 2.3.2   \n",
       "7           Android Honeycomb           Honeycomb               3.0   \n",
       "8  Android Ice Cream Sandwich  Ice Cream Sandwich       4.0 – 4.0.2   \n",
       "9          Android Jelly Bean          Jelly Bean       4.1 – 4.1.2   \n",
       "\n",
       "  Initial stablerelease date Supported(security fixes)  API level  \n",
       "0          September 23 2008                        No          1  \n",
       "1            February 9 2009                        No          2  \n",
       "2              April 27 2009                        No          3  \n",
       "3          September 15 2009                        No          4  \n",
       "4            October 27 2009                        No          5  \n",
       "5                May 20 2010                        No          8  \n",
       "6            December 6 2010                        No          9  \n",
       "7           February 22 2011                        No         11  \n",
       "8            October 18 2011                        No         14  \n",
       "9                July 9 2012                        No         16  "
      ]
     },
     "execution_count": 82,
     "metadata": {},
     "output_type": "execute_result"
    }
   ],
   "source": [
    "df.head(n=10)"
   ]
  },
  {
   "cell_type": "code",
   "execution_count": 84,
   "id": "495d774a-e159-4287-8226-8ed8284c0147",
   "metadata": {},
   "outputs": [
    {
     "data": {
      "text/plain": [
       "Name                              Android 1.1\n",
       "Internal codename                  Petit Four\n",
       "Version number(s)                         1.1\n",
       "Initial stablerelease date    February 9 2009\n",
       "Supported(security fixes)                  No\n",
       "API level                                   2\n",
       "Name: 1, dtype: object"
      ]
     },
     "execution_count": 84,
     "metadata": {},
     "output_type": "execute_result"
    }
   ],
   "source": [
    "df.iloc[1]"
   ]
  },
  {
   "cell_type": "code",
   "execution_count": null,
   "id": "13efd215-2f43-4969-9615-af740f6adc18",
   "metadata": {},
   "outputs": [],
   "source": []
  }
 ],
 "metadata": {
  "kernelspec": {
   "display_name": "Python 3 (ipykernel)",
   "language": "python",
   "name": "python3"
  },
  "language_info": {
   "codemirror_mode": {
    "name": "ipython",
    "version": 3
   },
   "file_extension": ".py",
   "mimetype": "text/x-python",
   "name": "python",
   "nbconvert_exporter": "python",
   "pygments_lexer": "ipython3",
   "version": "3.9.5"
  }
 },
 "nbformat": 4,
 "nbformat_minor": 5
}
