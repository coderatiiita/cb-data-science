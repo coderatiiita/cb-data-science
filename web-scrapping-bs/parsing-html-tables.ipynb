{
 "cells": [
  {
   "cell_type": "code",
   "execution_count": 2,
   "id": "0b21431d-6a78-466d-97c0-f823d9315205",
   "metadata": {},
   "outputs": [],
   "source": [
    " from urllib.request import urlopen"
   ]
  },
  {
   "cell_type": "code",
   "execution_count": 3,
   "id": "1ed7391a-66ea-4221-8f08-ded0b537733a",
   "metadata": {},
   "outputs": [],
   "source": [
    "android_url = 'https://en.wikipedia.org/wiki/Android_version_history'"
   ]
  },
  {
   "cell_type": "code",
   "execution_count": 4,
   "id": "3ae02492-8a89-40a7-8b45-eb1bcd699fbe",
   "metadata": {},
   "outputs": [
    {
     "name": "stdout",
     "output_type": "stream",
     "text": [
      "<class 'http.client.HTTPResponse'>\n"
     ]
    }
   ],
   "source": [
    "android_data = urlopen(android_url)\n",
    "print(type(android_data))"
   ]
  },
  {
   "cell_type": "code",
   "execution_count": 5,
   "id": "3c0b2acd-73c6-49ef-a1b5-950f2cff21df",
   "metadata": {},
   "outputs": [],
   "source": [
    "android_html = android_data.read()\n",
    "#print(android_html)\n",
    "android_data.close()"
   ]
  },
  {
   "cell_type": "code",
   "execution_count": 6,
   "id": "416f9222-9645-434f-8627-7e1ab6ec8db1",
   "metadata": {},
   "outputs": [],
   "source": [
    "from bs4 import BeautifulSoup as soup"
   ]
  },
  {
   "cell_type": "code",
   "execution_count": 7,
   "id": "1488faa6-2baa-4dc0-bea2-d72c96847c81",
   "metadata": {},
   "outputs": [
    {
     "name": "stdout",
     "output_type": "stream",
     "text": [
      "<class 'bs4.BeautifulSoup'>\n"
     ]
    }
   ],
   "source": [
    "android_soup = soup(android_html, 'html.parser')\n",
    "#print(android_soup)\n",
    "print(type(android_soup))"
   ]
  },
  {
   "cell_type": "code",
   "execution_count": 8,
   "id": "004c98b3-d86b-4057-8dac-dc9015f8a8ba",
   "metadata": {},
   "outputs": [
    {
     "name": "stdout",
     "output_type": "stream",
     "text": [
      "32\n"
     ]
    }
   ],
   "source": [
    "tables = android_soup.findAll('table', {'class':'wikitable'})\n",
    "print(len(tables))"
   ]
  },
  {
   "cell_type": "code",
   "execution_count": 9,
   "id": "cb83fe18-70d8-424e-970c-078b0d1231f9",
   "metadata": {},
   "outputs": [],
   "source": [
    "android_table = tables[0]\n",
    "#print(android_table)"
   ]
  },
  {
   "cell_type": "code",
   "execution_count": 10,
   "id": "fc8635cd-b07c-4e85-bcda-fbdbeeb01710",
   "metadata": {},
   "outputs": [
    {
     "name": "stdout",
     "output_type": "stream",
     "text": [
      "7\n"
     ]
    }
   ],
   "source": [
    "headers = android_table.findAll('th')\n",
    "print(len(headers))"
   ]
  },
  {
   "cell_type": "code",
   "execution_count": 11,
   "id": "a6031dac-da3c-4f3a-8885-e7dab23daf4c",
   "metadata": {},
   "outputs": [
    {
     "data": {
      "text/plain": [
       "'Name\\n'"
      ]
     },
     "execution_count": 11,
     "metadata": {},
     "output_type": "execute_result"
    }
   ],
   "source": [
    "headers[0].text"
   ]
  },
  {
   "cell_type": "code",
   "execution_count": 12,
   "id": "5e550e71-b87a-4a99-875d-75b9a9afbc8f",
   "metadata": {},
   "outputs": [
    {
     "name": "stdout",
     "output_type": "stream",
     "text": [
      "['Name', 'Internal codename', 'Version number(s)', 'Initial stablerelease date', 'Supported(security fixes)', 'API level', 'References']\n"
     ]
    }
   ],
   "source": [
    "column_titles = [ ct.text[:-1] for ct in headers ]\n",
    "print(column_titles)"
   ]
  },
  {
   "cell_type": "code",
   "execution_count": 18,
   "id": "2ede99d1-e8ec-46ca-a6cd-e72d5a9db90f",
   "metadata": {},
   "outputs": [
    {
     "name": "stdout",
     "output_type": "stream",
     "text": [
      "31\n",
      "Android 1.0\n",
      "N/A\n",
      "1.0\n",
      "September 23, 2008\n",
      "No\n",
      "1\n",
      "[9][14]\n"
     ]
    }
   ],
   "source": [
    "rows_data = android_table.findAll('tr')[1:]\n",
    "print(len(rows_data))\n",
    "first_row = rows_data[0].findAll('td', {})\n",
    "\n",
    "for d in first_row:\n",
    "    print(d.text[:-1])"
   ]
  },
  {
   "cell_type": "code",
   "execution_count": 19,
   "id": "b18a04a7-303d-4374-b779-bbb3c7a6e74a",
   "metadata": {},
   "outputs": [],
   "source": [
    "table_rows = []\n",
    "for row in rows_data:\n",
    "    current_row = []\n",
    "    row_data = row.findAll('td', {})\n",
    "    for idx,data in enumerate(row_data):\n",
    "        if idx != 0 and idx != 3:\n",
    "            current_row.append(data.text[:-1])\n",
    "        else:\n",
    "            current_row.append(data.text)\n",
    "            \n",
    "    table_rows.append(current_row)"
   ]
  },
  {
   "cell_type": "code",
   "execution_count": 20,
   "id": "d5d62d32-5e91-474b-83ff-869b6c7c9fa3",
   "metadata": {},
   "outputs": [
    {
     "name": "stdout",
     "output_type": "stream",
     "text": [
      "[['Android 1.0\\n', 'N/A', '1.0', 'September 23, 2008\\n', 'No', '1', '[9][14]'], ['Android 1.1\\n', 'Petit Four', '1.1', 'February 9, 2009\\n', 'No', '2', '[9][14][15]'], ['Android Cupcake\\n', 'Cupcake', '1.5', 'April 27, 2009\\n', 'No', '3', '[14][16]'], ['Android Donut\\n', 'Donut', '1.6', 'September 15, 2009\\n', 'No', '4', '[14][17]'], ['Android Eclair\\n', 'Eclair', '2.0', 'October 27, 2009\\n', 'No', '5', '[14][18][19]'], ['2.0.1\\n', 'December 3, 2009', 'No', '6\\n', ''], ['2.1\\n', 'January 11, 2010', 'No', '7\\n', '[20]'], ['Android Froyo\\n', 'Froyo', '2.2 – 2.2.3', 'May 20, 2010\\n', 'No', '8', '[14][21]'], ['Android Gingerbread\\n', 'Gingerbread', '2.3 – 2.3.2', 'December 6, 2010\\n', 'No', '9', '[14][22]'], ['2.3.3 - 2.3.7\\n', 'February 9, 2011', 'No', '10\\n', ''], ['Android Honeycomb\\n', 'Honeycomb', '3.0', 'February 22, 2011\\n', 'No', '11', '[14][23]'], ['3.1\\n', 'May 10, 2011', 'No', '12\\n', ''], ['3.2 - 3.2.6\\n', 'July 15, 2011', 'No', '13\\n', ''], ['Android Ice Cream Sandwich\\n', 'Ice Cream Sandwich', '4.0 – 4.0.2', 'October 18, 2011\\n', 'No', '14', '[14][24]'], ['4.0.3 - 4.0.4\\n', 'December 16, 2011', 'No', '15\\n', ''], ['Android Jelly Bean\\n', 'Jelly Bean', '4.1 – 4.1.2', 'July 9, 2012\\n', 'No', '16', '[14][25]'], ['4.2 - 4.2.2\\n', 'November 13, 2012', 'No', '17\\n', ''], ['4.3 - 4.3.1\\n', 'July 24, 2013', 'No', '18\\n', ''], ['Android KitKat\\n', 'Key Lime Pie', '4.4 – 4.4.4', 'October 31, 2013\\n', 'No', '19', '[14][26]'], ['4.4W - 4.4W.2\\n', 'June 25, 2014', 'No', '20\\n', ''], ['Android Lollipop\\n', 'Lemon Meringue Pie', '5.0 – 5.0.2', 'November 4, 2014\\n', 'No', '21', '[14][27][28]'], ['5.1 - 5.1.1\\n', 'March 2, 2015', 'No', '22\\n', '[29]'], ['Android Marshmallow\\n', 'Macadamia Nut Cookie', '6.0 – 6.0.1', 'October 2, 2015\\n', 'No', '23', '[14][30][31]'], ['Android Nougat\\n', 'New York Cheesecake', '7.0', 'August 22, 2016\\n', 'No', '24', '[14][32][33][34][35]'], ['7.1 - 7.1.2\\n', 'October 4, 2016', 'No', '25\\n', ''], ['Android Oreo\\n', 'Oatmeal Cookie', '8.0', 'August 21, 2017\\n', 'No', '26', '[14][36][37]'], ['8.1\\n', 'December 5, 2017', 'Yes[a]', '27\\n', '[14][38]'], ['Android Pie\\n', '', '9', 'August 6, 2018\\n', 'Yes', '28', '[14][39]'], ['Android 10\\n', 'Quince Tart', '10', 'September 3, 2019\\n', 'Yes', '29', '[14][40][41][42]'], ['Android 11\\n', 'Red Velvet Cake', '11', 'September 8, 2020\\n', 'Yes', '30', '[14][43]'], ['Android 12\\n', 'Snow Cone', '12', 'TBA\\n', 'Presupported', '31', '[14][44]']]\n"
     ]
    }
   ],
   "source": [
    "print(table_rows)"
   ]
  },
  {
   "cell_type": "code",
   "execution_count": null,
   "id": "c04c2f3a-dddf-43cc-b15d-a955db7698ff",
   "metadata": {},
   "outputs": [],
   "source": []
  }
 ],
 "metadata": {
  "kernelspec": {
   "display_name": "Python 3 (ipykernel)",
   "language": "python",
   "name": "python3"
  },
  "language_info": {
   "codemirror_mode": {
    "name": "ipython",
    "version": 3
   },
   "file_extension": ".py",
   "mimetype": "text/x-python",
   "name": "python",
   "nbconvert_exporter": "python",
   "pygments_lexer": "ipython3",
   "version": "3.9.5"
  }
 },
 "nbformat": 4,
 "nbformat_minor": 5
}
