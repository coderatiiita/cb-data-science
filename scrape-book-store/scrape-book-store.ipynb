{
 "cells": [
  {
   "cell_type": "code",
   "execution_count": 1,
   "id": "0564f6b9-b7f4-4dec-8553-c2ab2eacfd34",
   "metadata": {},
   "outputs": [],
   "source": [
    "from bs4 import BeautifulSoup as soup\n",
    "import requests"
   ]
  },
  {
   "cell_type": "code",
   "execution_count": 2,
   "id": "fb550f59-acb8-4afa-bfcc-577dad13c40b",
   "metadata": {},
   "outputs": [],
   "source": [
    "url = 'https://books.toscrape.com/catalogue/page-1.html'"
   ]
  },
  {
   "cell_type": "code",
   "execution_count": 21,
   "id": "c49d2f0e-02b9-4528-ad71-9dd109b39eae",
   "metadata": {},
   "outputs": [],
   "source": [
    "with open('result.csv', 'w') as f:\n",
    "    f.write('image_url,book_title,product_price\\n')\n",
    "    for i in range(1,51,1):\n",
    "        #if i==1:\n",
    "        url = 'https://books.toscrape.com/catalogue/page-{}.html'.format(i)\n",
    "        resp = requests.get(url)\n",
    "        resp_soup = soup(resp.text, 'html.parser')\n",
    "\n",
    "        ol_tag = resp_soup.find('ol', { 'class' : 'row' })\n",
    "        li_tags = ol_tag.findAll('li')\n",
    "        for li_tag in li_tags:\n",
    "\n",
    "            image_div = li_tag.find('div', {'class' : 'image_container'})\n",
    "            img_tag = image_div.find('img', {'class' : 'thumbnail'})\n",
    "            image_url = img_tag['src']\n",
    "\n",
    "            h3_tag = li_tag.find('h3')\n",
    "            book_title = h3_tag.find('a')['title']\n",
    "\n",
    "            price_p = li_tag.find('p', { 'class' : 'price_color' })\n",
    "            product_price = price_p.getText()[1:]\n",
    "\n",
    "            f.write(','.join((image_url, book_title, product_price)))\n",
    "            f.write('\\n')\n",
    "            #print(image_url, book_title, product_price)\n"
   ]
  },
  {
   "cell_type": "code",
   "execution_count": null,
   "id": "6b1c604a-4942-4202-93fe-669c04a5a947",
   "metadata": {},
   "outputs": [],
   "source": []
  }
 ],
 "metadata": {
  "kernelspec": {
   "display_name": "Python 3 (ipykernel)",
   "language": "python",
   "name": "python3"
  },
  "language_info": {
   "codemirror_mode": {
    "name": "ipython",
    "version": 3
   },
   "file_extension": ".py",
   "mimetype": "text/x-python",
   "name": "python",
   "nbconvert_exporter": "python",
   "pygments_lexer": "ipython3",
   "version": "3.9.5"
  }
 },
 "nbformat": 4,
 "nbformat_minor": 5
}
