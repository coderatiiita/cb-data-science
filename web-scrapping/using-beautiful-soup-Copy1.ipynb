{
 "cells": [
  {
   "cell_type": "code",
   "execution_count": 3,
   "id": "0b21431d-6a78-466d-97c0-f823d9315205",
   "metadata": {},
   "outputs": [],
   "source": [
    " from urllib.request import urlopen"
   ]
  },
  {
   "cell_type": "code",
   "execution_count": 4,
   "id": "1ed7391a-66ea-4221-8f08-ded0b537733a",
   "metadata": {},
   "outputs": [],
   "source": [
    "android_url = 'https://en.wikipedia.org/wiki/Android_version_history'"
   ]
  },
  {
   "cell_type": "code",
   "execution_count": 5,
   "id": "3ae02492-8a89-40a7-8b45-eb1bcd699fbe",
   "metadata": {},
   "outputs": [
    {
     "name": "stdout",
     "output_type": "stream",
     "text": [
      "<class 'http.client.HTTPResponse'>\n"
     ]
    }
   ],
   "source": [
    "android_data = urlopen(android_url)\n",
    "print(type(android_data))"
   ]
  },
  {
   "cell_type": "code",
   "execution_count": 6,
   "id": "3c0b2acd-73c6-49ef-a1b5-950f2cff21df",
   "metadata": {},
   "outputs": [],
   "source": [
    "android_html = android_data.read()\n",
    "#print(android_html)\n",
    "android_data.close()"
   ]
  },
  {
   "cell_type": "code",
   "execution_count": 7,
   "id": "416f9222-9645-434f-8627-7e1ab6ec8db1",
   "metadata": {},
   "outputs": [],
   "source": [
    "from bs4 import BeautifulSoup as soup"
   ]
  },
  {
   "cell_type": "code",
   "execution_count": 11,
   "id": "1488faa6-2baa-4dc0-bea2-d72c96847c81",
   "metadata": {},
   "outputs": [
    {
     "name": "stdout",
     "output_type": "stream",
     "text": [
      "<class 'bs4.BeautifulSoup'>\n"
     ]
    }
   ],
   "source": [
    "android_soup = soup(android_html, 'html.parser')\n",
    "#print(android_soup)\n",
    "print(type(android_soup))"
   ]
  },
  {
   "cell_type": "code",
   "execution_count": 12,
   "id": "004c98b3-d86b-4057-8dac-dc9015f8a8ba",
   "metadata": {},
   "outputs": [
    {
     "name": "stdout",
     "output_type": "stream",
     "text": [
      "32\n"
     ]
    }
   ],
   "source": [
    "tables = android_soup.findAll('table', {'class':'wikitable'})\n",
    "print(len(tables))"
   ]
  },
  {
   "cell_type": "code",
   "execution_count": 14,
   "id": "cb83fe18-70d8-424e-970c-078b0d1231f9",
   "metadata": {},
   "outputs": [],
   "source": [
    "android_table = tables[0]\n",
    "#print(android_table)"
   ]
  },
  {
   "cell_type": "code",
   "execution_count": null,
   "id": "fc8635cd-b07c-4e85-bcda-fbdbeeb01710",
   "metadata": {},
   "outputs": [],
   "source": []
  }
 ],
 "metadata": {
  "kernelspec": {
   "display_name": "Python 3 (ipykernel)",
   "language": "python",
   "name": "python3"
  },
  "language_info": {
   "codemirror_mode": {
    "name": "ipython",
    "version": 3
   },
   "file_extension": ".py",
   "mimetype": "text/x-python",
   "name": "python",
   "nbconvert_exporter": "python",
   "pygments_lexer": "ipython3",
   "version": "3.9.5"
  }
 },
 "nbformat": 4,
 "nbformat_minor": 5
}
