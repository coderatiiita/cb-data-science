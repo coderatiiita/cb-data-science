{
 "cells": [
  {
   "cell_type": "code",
   "execution_count": 2,
   "id": "c720ca44-4f9d-4f14-a970-ac3476243c0c",
   "metadata": {},
   "outputs": [],
   "source": [
    "import pandas as pd\n",
    "import numpy as np"
   ]
  },
  {
   "cell_type": "code",
   "execution_count": 8,
   "id": "660cb7c1-51d0-4e4b-8565-2d43bd624ff2",
   "metadata": {},
   "outputs": [
    {
     "name": "stdout",
     "output_type": "stream",
     "text": [
      "[[-0.44395238 -1.92730318 -0.46081837]\n",
      " [-0.63241516 -0.88530918 -0.56303766]]\n",
      "<class 'numpy.ndarray'>\n",
      "----------------------------------------------------\n",
      "          0         1         2\n",
      "0 -0.443952 -1.927303 -0.460818\n",
      "1 -0.632415 -0.885309 -0.563038\n",
      "<class 'pandas.core.frame.DataFrame'>\n",
      "<class 'pandas.core.series.Series'>\n"
     ]
    }
   ],
   "source": [
    "d = np.random.normal(size=(2,3))\n",
    "print(d)\n",
    "print(type(d))\n",
    "\n",
    "print('----------------------------------------------------')\n",
    "\n",
    "s = pd.DataFrame(d)\n",
    "print(s)\n",
    "print(type(s))\n",
    "print(type(pd.Series(4)))"
   ]
  },
  {
   "cell_type": "code",
   "execution_count": 9,
   "id": "63aed7e3-18ef-44da-8ceb-e12c149b9479",
   "metadata": {},
   "outputs": [
    {
     "name": "stdout",
     "output_type": "stream",
     "text": [
      "   a  b\n",
      "0  1  2\n",
      "1  2  4\n",
      "2  3  6\n",
      "3  4  8\n",
      "[1 2 3 4]\n"
     ]
    }
   ],
   "source": [
    "d = {\n",
    "    'a' : [1,2,3,4],\n",
    "    'b' : [2,4,6,8]\n",
    "}\n",
    "\n",
    "df = pd.DataFrame(d)\n",
    "print(df)\n",
    "print(df['a'].values)"
   ]
  },
  {
   "cell_type": "code",
   "execution_count": 10,
   "id": "c36dd1a8-4b38-4880-b4b2-1bed11373ae9",
   "metadata": {},
   "outputs": [
    {
     "name": "stdout",
     "output_type": "stream",
     "text": [
      "The DataFrame \n",
      "      a    b\n",
      "a1  1.0  NaN\n",
      "a2  2.0  NaN\n",
      "c   3.0  9.0\n",
      "b1  NaN  2.0\n",
      "b2  NaN  4.0\n"
     ]
    }
   ],
   "source": [
    "d = {\n",
    "    \"a\": {\n",
    "        \"a1\":1, \n",
    "        \"a2\":2, \n",
    "        \"c\":3\n",
    "    }, \n",
    "    \"b\": {\n",
    "        \"b1\":2, \n",
    "        \"b2\":4, \n",
    "        \"c\":9\n",
    "    }\n",
    "}\n",
    "df = pd.DataFrame(d)\n",
    "print(\"The DataFrame \")\n",
    "print(df)"
   ]
  },
  {
   "cell_type": "code",
   "execution_count": 11,
   "id": "79c0f9d2-0467-4eb0-bc11-23bbeba4607c",
   "metadata": {},
   "outputs": [
    {
     "name": "stdout",
     "output_type": "stream",
     "text": [
      "   a  b\n",
      "0  1  2\n",
      "1  2  3\n"
     ]
    }
   ],
   "source": [
    "s = {\n",
    "    'a' : pd.Series(range(1,3)),\n",
    "    'b' : pd.Series(range(2,4))\n",
    "}\n",
    "\n",
    "df = pd.DataFrame(s)\n",
    "print(df)"
   ]
  },
  {
   "cell_type": "code",
   "execution_count": 13,
   "id": "edc7cf0c-5583-4fb4-9d0d-fba1f8a383af",
   "metadata": {},
   "outputs": [
    {
     "name": "stdout",
     "output_type": "stream",
     "text": [
      "     a    b\n",
      "a  1.0  NaN\n",
      "b  2.0  5.0\n",
      "c  NaN  6.0\n"
     ]
    }
   ],
   "source": [
    "s = {\n",
    "    'a' : pd.Series(range(1,3), index=['a', 'b']),\n",
    "    'b' : pd.Series(range(5,7), index=['b', 'c'])\n",
    "}\n",
    "\n",
    "df = pd.DataFrame(s)\n",
    "print(df)"
   ]
  },
  {
   "cell_type": "code",
   "execution_count": 14,
   "id": "f40835b9-ea1d-41de-ae7d-e2bdb3d517d6",
   "metadata": {},
   "outputs": [
    {
     "name": "stdout",
     "output_type": "stream",
     "text": [
      "dataframe created from from_dict\n",
      "   a  b\n",
      "0  1  2\n",
      "1  2  4\n",
      "2  3  6\n",
      "3  4  8\n",
      "--------------------\n",
      "dataframe created from from_dict and set the orient\n",
      "   0  1  2  3\n",
      "a  1  2  3  4\n",
      "b  2  4  6  8\n"
     ]
    }
   ],
   "source": [
    "d = {\n",
    "    \"a\": [1, 2, 3, 4], \n",
    "    \"b\": [2, 4, 6, 8]\n",
    "}\n",
    "df = pd.DataFrame.from_dict(d)\n",
    "print(\"dataframe created from from_dict\")\n",
    "print(df)\n",
    "print(\"--------------------\")\n",
    "\n",
    "df = pd.DataFrame.from_dict(d, orient=\"index\")\n",
    "print(\"dataframe created from from_dict and set the orient\")\n",
    "print(df)"
   ]
  },
  {
   "cell_type": "code",
   "execution_count": 15,
   "id": "21f3accb-2ec0-4aa0-a33b-b847942ca1ef",
   "metadata": {},
   "outputs": [
    {
     "name": "stdout",
     "output_type": "stream",
     "text": [
      "     animal  uniq_id  water_need\n",
      "0  elephant     1001         500\n"
     ]
    }
   ],
   "source": [
    "df = pd.read_csv('sample.csv', sep=',')\n",
    "print(df.head(1))"
   ]
  },
  {
   "cell_type": "code",
   "execution_count": 16,
   "id": "fb387ef5-736c-42de-8029-0ee7696a493c",
   "metadata": {},
   "outputs": [
    {
     "name": "stdout",
     "output_type": "stream",
     "text": [
      "(10, 3)\n",
      "10\n"
     ]
    }
   ],
   "source": [
    "df = pd.read_csv('sample.csv', sep=',', nrows=10)\n",
    "print(df.shape)\n",
    "print(df.shape[0])"
   ]
  },
  {
   "cell_type": "code",
   "execution_count": 18,
   "id": "f6c9c6da-fdc5-4ed0-b06d-29da1e4efd7c",
   "metadata": {},
   "outputs": [
    {
     "name": "stdout",
     "output_type": "stream",
     "text": [
      "        a        b           c\n",
      "0  animal  uniq_id  water_need\n"
     ]
    }
   ],
   "source": [
    "df = pd.read_csv('sample.csv', sep=',', header=None, names=['a', 'b', 'c'])\n",
    "print(df.head(1))"
   ]
  },
  {
   "cell_type": "code",
   "execution_count": 22,
   "id": "89ae0724-bd04-46a6-a347-321edcc4bb1f",
   "metadata": {},
   "outputs": [
    {
     "name": "stdout",
     "output_type": "stream",
     "text": [
      "     animal\n",
      "0  elephant\n",
      "1  elephant\n",
      "2  elephant\n",
      "3     tiger\n",
      "4     tiger\n"
     ]
    }
   ],
   "source": [
    "df = pd.read_csv('sample.csv', sep=',', header=0, usecols=['animal'])\n",
    "print(df.head())"
   ]
  },
  {
   "cell_type": "code",
   "execution_count": null,
   "id": "220d8e4c-1d6e-4d3a-a285-c8465e591ded",
   "metadata": {},
   "outputs": [],
   "source": []
  }
 ],
 "metadata": {
  "kernelspec": {
   "display_name": "Python 3 (ipykernel)",
   "language": "python",
   "name": "python3"
  },
  "language_info": {
   "codemirror_mode": {
    "name": "ipython",
    "version": 3
   },
   "file_extension": ".py",
   "mimetype": "text/x-python",
   "name": "python",
   "nbconvert_exporter": "python",
   "pygments_lexer": "ipython3",
   "version": "3.9.5"
  }
 },
 "nbformat": 4,
 "nbformat_minor": 5
}
