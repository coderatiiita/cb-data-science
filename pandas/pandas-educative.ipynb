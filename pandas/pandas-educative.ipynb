{
 "cells": [
  {
   "cell_type": "code",
   "execution_count": 3,
   "id": "d11e1808-56ba-47dd-8fb6-acfb65429e18",
   "metadata": {},
   "outputs": [],
   "source": [
    "import pandas as pd"
   ]
  },
  {
   "cell_type": "code",
   "execution_count": 9,
   "id": "ea0d292c-ca0a-42e2-8fd1-c324894130a3",
   "metadata": {},
   "outputs": [
    {
     "name": "stdout",
     "output_type": "stream",
     "text": [
      "<class 'range'>\n",
      "True\n",
      "<class 'pandas.core.series.Series'>\n",
      "0    1\n",
      "1    2\n",
      "2    3\n",
      "3    4\n",
      "4    5\n",
      "5    6\n",
      "6    7\n",
      "7    8\n",
      "8    9\n",
      "dtype: int64\n",
      "-----------------\n",
      "the index 3 -> value is 4\n",
      "the index 3 -> value is 4\n"
     ]
    }
   ],
   "source": [
    "l = range(1,10)\n",
    "print(type(l))\n",
    "print(isinstance(l, range))\n",
    "s = pd.Series(l)\n",
    "print(type(s))\n",
    "print(s)\n",
    "print('-----------------')\n",
    "x = 3\n",
    "print('the index {} -> value is {}'.format(x, s[x]))\n",
    "print(f'the index {x} -> value is {s[x]}')"
   ]
  },
  {
   "cell_type": "code",
   "execution_count": 11,
   "id": "47a727c7-a569-4f8b-98c3-6d5f81218948",
   "metadata": {},
   "outputs": [
    {
     "name": "stdout",
     "output_type": "stream",
     "text": [
      "aa       1\n",
      "bb       2\n",
      "ccc      3\n",
      "dddd     4\n",
      "eeeee    5\n",
      "dtype: int64\n",
      "3\n"
     ]
    }
   ],
   "source": [
    "r2 = range(1,6)\n",
    "idx = ['aa', 'bb', 'ccc', 'dddd', 'eeeee']\n",
    "s2 = pd.Series(r2, idx)\n",
    "print(s2)\n",
    "print(s2['ccc'])"
   ]
  },
  {
   "cell_type": "code",
   "execution_count": 14,
   "id": "e744f990-18de-4651-82e2-d09ba0edbf04",
   "metadata": {},
   "outputs": [
    {
     "name": "stdout",
     "output_type": "stream",
     "text": [
      "bb     1\n",
      "a      0\n",
      "ccc    2\n",
      "dtype: int64\n",
      "2\n"
     ]
    }
   ],
   "source": [
    "dic = {\n",
    "    'bb' : 1,\n",
    "    'a' : 0,\n",
    "    'ccc' : 2\n",
    "}\n",
    "\n",
    "s = pd.Series(dic)\n",
    "print(s)\n",
    "print(s['ccc'])"
   ]
  },
  {
   "cell_type": "code",
   "execution_count": 15,
   "id": "3333beed-da19-4172-9f8b-ea5f7515d247",
   "metadata": {},
   "outputs": [],
   "source": [
    "import numpy as np"
   ]
  },
  {
   "cell_type": "code",
   "execution_count": 18,
   "id": "6b39c61f-2201-4740-a29f-81053dd747dd",
   "metadata": {},
   "outputs": [
    {
     "name": "stdout",
     "output_type": "stream",
     "text": [
      "<class 'numpy.ndarray'>\n",
      "-----------------\n",
      "0    1\n",
      "1    3\n",
      "2    5\n",
      "3    7\n",
      "4    9\n",
      "dtype: int64\n",
      "7\n"
     ]
    }
   ],
   "source": [
    "l = np.arange(1,10, 2)\n",
    "print(type(l))\n",
    "print('-----------------')\n",
    "s = pd.Series(l)\n",
    "print(s)\n",
    "print(s[3])"
   ]
  },
  {
   "cell_type": "code",
   "execution_count": 19,
   "id": "229f1af2-e4a2-4a30-9acf-e63747828f1a",
   "metadata": {},
   "outputs": [
    {
     "name": "stdout",
     "output_type": "stream",
     "text": [
      "0    3\n",
      "dtype: int64\n",
      "---------------\n",
      "1    3\n",
      "2    3\n",
      "3    3\n",
      "dtype: int64\n"
     ]
    }
   ],
   "source": [
    "s = pd.Series(3)\n",
    "print(s)\n",
    "print('---------------')\n",
    "s = pd.Series(3, index = range(1,4))\n",
    "print(s)"
   ]
  },
  {
   "cell_type": "code",
   "execution_count": 20,
   "id": "2bfae784-8c0e-4f56-a234-4b674dc8eddb",
   "metadata": {},
   "outputs": [],
   "source": [
    "s = pd.Series(range(1,20))"
   ]
  },
  {
   "cell_type": "code",
   "execution_count": 21,
   "id": "e7f2f837-b2e5-40ab-b382-95870c0e2896",
   "metadata": {},
   "outputs": [
    {
     "name": "stdout",
     "output_type": "stream",
     "text": [
      "2\n"
     ]
    }
   ],
   "source": [
    "print(s[1])"
   ]
  },
  {
   "cell_type": "code",
   "execution_count": 24,
   "id": "c53bc47c-cf62-45dc-b890-601250636be2",
   "metadata": {},
   "outputs": [
    {
     "name": "stdout",
     "output_type": "stream",
     "text": [
      "1    2\n",
      "5    6\n",
      "dtype: int64\n"
     ]
    }
   ],
   "source": [
    "print(s[[1,5]])"
   ]
  },
  {
   "cell_type": "code",
   "execution_count": 25,
   "id": "c83dc4ea-8898-49bd-baba-c414e4374937",
   "metadata": {},
   "outputs": [
    {
     "name": "stdout",
     "output_type": "stream",
     "text": [
      "5      6\n",
      "6      7\n",
      "7      8\n",
      "8      9\n",
      "9     10\n",
      "10    11\n",
      "11    12\n",
      "12    13\n",
      "13    14\n",
      "14    15\n",
      "15    16\n",
      "16    17\n",
      "17    18\n",
      "18    19\n",
      "dtype: int64\n"
     ]
    }
   ],
   "source": [
    "print(s[5:])"
   ]
  },
  {
   "cell_type": "code",
   "execution_count": 26,
   "id": "4bd57dda-e227-4315-8416-63ecf032600c",
   "metadata": {},
   "outputs": [
    {
     "name": "stdout",
     "output_type": "stream",
     "text": [
      "1     2\n",
      "3     4\n",
      "5     6\n",
      "7     8\n",
      "9    10\n",
      "dtype: int64\n"
     ]
    }
   ],
   "source": [
    "print(s[1:10:2])"
   ]
  },
  {
   "cell_type": "code",
   "execution_count": 27,
   "id": "fecdbc24-77d9-444e-a91b-61eeae582fec",
   "metadata": {},
   "outputs": [],
   "source": [
    "s = pd.Series(range(1,20))"
   ]
  },
  {
   "cell_type": "code",
   "execution_count": 30,
   "id": "988a18bd-9085-40a5-8009-225eef754223",
   "metadata": {},
   "outputs": [
    {
     "name": "stdout",
     "output_type": "stream",
     "text": [
      "<class 'pandas.core.series.Series'>\n",
      "[ 2  4  6  8 10 12 14 16 18]\n"
     ]
    }
   ],
   "source": [
    "s1 = s[s%2==0]\n",
    "print(type(s1))\n",
    "print(s1.values)"
   ]
  },
  {
   "cell_type": "code",
   "execution_count": 31,
   "id": "ac882345-b8d6-4e52-8ea1-7370d78a07b1",
   "metadata": {},
   "outputs": [
    {
     "name": "stdout",
     "output_type": "stream",
     "text": [
      "[ 9 10 11 12 13 14 15 16 17 18 19]\n"
     ]
    }
   ],
   "source": [
    "s2 = s[s>8]\n",
    "print(s2.values)"
   ]
  },
  {
   "cell_type": "code",
   "execution_count": 32,
   "id": "a83fbce1-ed63-41d0-ad4f-927c151f3cc8",
   "metadata": {},
   "outputs": [
    {
     "name": "stdout",
     "output_type": "stream",
     "text": [
      "[11 12 13 14 15 16 17 18 19]\n"
     ]
    }
   ],
   "source": [
    "s3 = s[s > s.mean()]\n",
    "print(s3.values)"
   ]
  },
  {
   "cell_type": "code",
   "execution_count": 34,
   "id": "7d480073-84c2-445f-9f4b-8932a6a90bbd",
   "metadata": {},
   "outputs": [
    {
     "name": "stdout",
     "output_type": "stream",
     "text": [
      "[1 2 3 4 5 6 7] [ 2  4  6  8 10 12 14]\n"
     ]
    }
   ],
   "source": [
    "s = pd.Series(range(1,8))\n",
    "d1 = s * 2\n",
    "print(s.values, d1.values)"
   ]
  },
  {
   "cell_type": "code",
   "execution_count": 35,
   "id": "fa2f358d-3c56-486a-9b87-f5b482d3c5b7",
   "metadata": {},
   "outputs": [
    {
     "name": "stdout",
     "output_type": "stream",
     "text": [
      "[1 2 3 4 5 6 7] [ 3  6  9 12 15 18 21]\n"
     ]
    }
   ],
   "source": [
    "d2 = s + s + s\n",
    "print(s.values, d2.values)"
   ]
  },
  {
   "cell_type": "code",
   "execution_count": 36,
   "id": "d54c38cc-ef07-4a8a-aa0d-b8128b6dd75b",
   "metadata": {},
   "outputs": [
    {
     "name": "stdout",
     "output_type": "stream",
     "text": [
      "[1 2 3 4 5 6 7] [ 0.84147098  0.90929743  0.14112001 -0.7568025  -0.95892427 -0.2794155\n",
      "  0.6569866 ]\n"
     ]
    }
   ],
   "source": [
    "d4 = np.sin(s)\n",
    "print(s.values, d4.values)"
   ]
  },
  {
   "cell_type": "code",
   "execution_count": null,
   "id": "6e7f7e69-af2a-42f7-aa82-70231bd8a8ef",
   "metadata": {},
   "outputs": [],
   "source": []
  }
 ],
 "metadata": {
  "kernelspec": {
   "display_name": "Python 3 (ipykernel)",
   "language": "python",
   "name": "python3"
  },
  "language_info": {
   "codemirror_mode": {
    "name": "ipython",
    "version": 3
   },
   "file_extension": ".py",
   "mimetype": "text/x-python",
   "name": "python",
   "nbconvert_exporter": "python",
   "pygments_lexer": "ipython3",
   "version": "3.9.5"
  }
 },
 "nbformat": 4,
 "nbformat_minor": 5
}
