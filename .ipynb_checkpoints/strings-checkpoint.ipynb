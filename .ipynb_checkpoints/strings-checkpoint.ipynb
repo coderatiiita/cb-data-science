{
 "cells": [
  {
   "cell_type": "code",
   "execution_count": 2,
   "id": "5c55a618-cafc-493f-9b07-f0e2c1c6aabe",
   "metadata": {},
   "outputs": [
    {
     "name": "stdout",
     "output_type": "stream",
     "text": [
      "jatin jatin  \n",
      "        multi line\n",
      "        string\n",
      "    \n"
     ]
    }
   ],
   "source": [
    "a = \"jatin\"\n",
    "b = 'jatin'\n",
    "c = ''' \n",
    "        multi line\n",
    "        string\n",
    "    '''\n",
    "print(a,b,c, end='\\n')"
   ]
  },
  {
   "cell_type": "code",
   "execution_count": 3,
   "id": "22469b2d-0cd4-4072-ac00-11b5dbae421f",
   "metadata": {},
   "outputs": [
    {
     "data": {
      "text/plain": [
       "10"
      ]
     },
     "execution_count": 3,
     "metadata": {},
     "output_type": "execute_result"
    }
   ],
   "source": [
    "ord('\\n')"
   ]
  },
  {
   "cell_type": "code",
   "execution_count": 4,
   "id": "e170f589-a621-48b4-bdac-0775550f422e",
   "metadata": {},
   "outputs": [
    {
     "data": {
      "text/plain": [
       "'\\n'"
      ]
     },
     "execution_count": 4,
     "metadata": {},
     "output_type": "execute_result"
    }
   ],
   "source": [
    "chr(10)"
   ]
  },
  {
   "cell_type": "code",
   "execution_count": 6,
   "id": "631ad9da-56d0-4a7c-be03-5c41acc55c9e",
   "metadata": {},
   "outputs": [],
   "source": [
    "name = \"Mohit\"\n",
    "age = 21\n",
    "year = 3"
   ]
  },
  {
   "cell_type": "code",
   "execution_count": 9,
   "id": "a2dc5ae8-26de-4a5c-a39b-642b9eebc309",
   "metadata": {},
   "outputs": [
    {
     "name": "stdout",
     "output_type": "stream",
     "text": [
      "My name is Mohit. I am 21 years old. I am in 3 year.\n"
     ]
    }
   ],
   "source": [
    "print(\"My name is \" + name + \". I am \" + str(age) + \" years old. I am in \" + str(year) + \" year.\")"
   ]
  },
  {
   "cell_type": "code",
   "execution_count": 10,
   "id": "de23338f-c7da-4c92-b8b0-38de3d27cb4b",
   "metadata": {},
   "outputs": [
    {
     "name": "stdout",
     "output_type": "stream",
     "text": [
      "My name is Mohit. I am 21 years old. I am in 3 year.\n"
     ]
    }
   ],
   "source": [
    "print( \"My name is %s. I am %d years old. I am in %d year.\"%(name, age, year) )"
   ]
  },
  {
   "cell_type": "code",
   "execution_count": 11,
   "id": "fed55501-7da1-41d8-948b-4bbaec04f39e",
   "metadata": {},
   "outputs": [
    {
     "name": "stdout",
     "output_type": "stream",
     "text": [
      "My name is Mohit. I am 21 years old. I am in 3 year.\n"
     ]
    }
   ],
   "source": [
    "print( \"My name is {}. I am {} years old. I am in {} year.\".format(name, age, year) )"
   ]
  },
  {
   "cell_type": "code",
   "execution_count": 12,
   "id": "bf5cb5c1-c901-46de-b6f0-47cdfa0ff531",
   "metadata": {},
   "outputs": [],
   "source": [
    "#### f-strings"
   ]
  },
  {
   "cell_type": "code",
   "execution_count": 13,
   "id": "127e9dd9-b328-43a6-b8b2-4c0b0676414d",
   "metadata": {},
   "outputs": [
    {
     "name": "stdout",
     "output_type": "stream",
     "text": [
      "My name is Mohit. I am 21 years old. I am in 3 year.\n"
     ]
    }
   ],
   "source": [
    "print( f\"My name is {name}. I am {age} years old. I am in {year} year.\")"
   ]
  },
  {
   "cell_type": "code",
   "execution_count": 14,
   "id": "5c802430-6ee7-44b0-ad0b-c6e4f39902ea",
   "metadata": {},
   "outputs": [],
   "source": [
    " ### strip"
   ]
  },
  {
   "cell_type": "code",
   "execution_count": 15,
   "id": "7b3bf9f3-5bd7-49ec-8814-8280b74d6392",
   "metadata": {},
   "outputs": [],
   "source": [
    "st = '       Good Morning       '"
   ]
  },
  {
   "cell_type": "code",
   "execution_count": 16,
   "id": "e5565b5d-ead3-4632-9705-da61a6abff75",
   "metadata": {},
   "outputs": [
    {
     "data": {
      "text/plain": [
       "'Good Morning       '"
      ]
     },
     "execution_count": 16,
     "metadata": {},
     "output_type": "execute_result"
    }
   ],
   "source": [
    "st.lstrip()"
   ]
  },
  {
   "cell_type": "code",
   "execution_count": 17,
   "id": "30957a7f-cc10-4590-a4fe-0789011637d0",
   "metadata": {},
   "outputs": [
    {
     "data": {
      "text/plain": [
       "'       Good Morning'"
      ]
     },
     "execution_count": 17,
     "metadata": {},
     "output_type": "execute_result"
    }
   ],
   "source": [
    "st.rstrip()"
   ]
  },
  {
   "cell_type": "code",
   "execution_count": 18,
   "id": "003d7cd4-f46e-4cce-93de-4932217e83c8",
   "metadata": {},
   "outputs": [
    {
     "data": {
      "text/plain": [
       "'Good Morning'"
      ]
     },
     "execution_count": 18,
     "metadata": {},
     "output_type": "execute_result"
    }
   ],
   "source": [
    "st.strip()"
   ]
  },
  {
   "cell_type": "code",
   "execution_count": 19,
   "id": "8f4baec0-8c25-4bee-b193-24831d3b7d43",
   "metadata": {},
   "outputs": [
    {
     "name": "stdin",
     "output_type": "stream",
     "text": [
      "Enter yes or no    yes\n"
     ]
    }
   ],
   "source": [
    "response = input('Enter yes or no')"
   ]
  },
  {
   "cell_type": "code",
   "execution_count": 20,
   "id": "afe2b322-5cf3-406c-b861-1a9e38eeae10",
   "metadata": {},
   "outputs": [
    {
     "name": "stdout",
     "output_type": "stream",
     "text": [
      "   yes\n"
     ]
    }
   ],
   "source": [
    "print(response)"
   ]
  },
  {
   "cell_type": "code",
   "execution_count": 22,
   "id": "0c1e2743-f823-4055-a732-97400ea72f9f",
   "metadata": {},
   "outputs": [
    {
     "name": "stdout",
     "output_type": "stream",
     "text": [
      "True\n"
     ]
    }
   ],
   "source": [
    "print(response.strip() == 'yes')"
   ]
  },
  {
   "cell_type": "code",
   "execution_count": 23,
   "id": "3446b325-e749-4095-a12a-7064d3211edc",
   "metadata": {},
   "outputs": [],
   "source": [
    "st = \"My name is Mohit\""
   ]
  },
  {
   "cell_type": "code",
   "execution_count": 24,
   "id": "a6612d01-5a43-417b-a578-768187308053",
   "metadata": {},
   "outputs": [
    {
     "name": "stdout",
     "output_type": "stream",
     "text": [
      "['My', 'name', 'is', 'Mohit']\n"
     ]
    }
   ],
   "source": [
    "res = st.split()\n",
    "print(res)"
   ]
  },
  {
   "cell_type": "code",
   "execution_count": 26,
   "id": "947908b7-3ffa-4ae5-b0ad-316e63291232",
   "metadata": {},
   "outputs": [
    {
     "data": {
      "text/plain": [
       "'My name is Jatin'"
      ]
     },
     "execution_count": 26,
     "metadata": {},
     "output_type": "execute_result"
    }
   ],
   "source": [
    "st.replace(\"Mohit\", 'Jatin')"
   ]
  },
  {
   "cell_type": "code",
   "execution_count": 27,
   "id": "655c5560-3b3e-489a-80ef-623217b5eaf8",
   "metadata": {},
   "outputs": [],
   "source": [
    "st = 'aaaaaaazzz'"
   ]
  },
  {
   "cell_type": "code",
   "execution_count": 28,
   "id": "41237654-90a6-4349-b570-dbe86238df3c",
   "metadata": {},
   "outputs": [
    {
     "data": {
      "text/plain": [
       "'bbbbbbbzzz'"
      ]
     },
     "execution_count": 28,
     "metadata": {},
     "output_type": "execute_result"
    }
   ],
   "source": [
    "st.replace('a', 'b')"
   ]
  },
  {
   "cell_type": "code",
   "execution_count": 29,
   "id": "ca803210-62a0-4765-adfe-3f57c5655cf3",
   "metadata": {},
   "outputs": [
    {
     "name": "stdout",
     "output_type": "stream",
     "text": [
      "aaaaaaazzz\n"
     ]
    }
   ],
   "source": [
    "print(st)"
   ]
  },
  {
   "cell_type": "code",
   "execution_count": 30,
   "id": "875c4281-34ab-4732-935e-beefd5c11317",
   "metadata": {},
   "outputs": [
    {
     "data": {
      "text/plain": [
       "7"
      ]
     },
     "execution_count": 30,
     "metadata": {},
     "output_type": "execute_result"
    }
   ],
   "source": [
    "st.count('a')"
   ]
  },
  {
   "cell_type": "code",
   "execution_count": null,
   "id": "fce3d742-078e-4d8a-93b8-492440fc51df",
   "metadata": {},
   "outputs": [],
   "source": []
  }
 ],
 "metadata": {
  "kernelspec": {
   "display_name": "Python 3 (ipykernel)",
   "language": "python",
   "name": "python3"
  },
  "language_info": {
   "codemirror_mode": {
    "name": "ipython",
    "version": 3
   },
   "file_extension": ".py",
   "mimetype": "text/x-python",
   "name": "python",
   "nbconvert_exporter": "python",
   "pygments_lexer": "ipython3",
   "version": "3.9.5"
  }
 },
 "nbformat": 4,
 "nbformat_minor": 5
}
